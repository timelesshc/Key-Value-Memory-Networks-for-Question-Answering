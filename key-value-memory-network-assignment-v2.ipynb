{
 "metadata": {
  "accelerator": "GPU",
  "colab": {
   "provenance": [],
   "gpuType": "T4",
   "collapsed_sections": [
    "63gSR-fsDFKu",
    "Y9AP3Dcle5VC"
   ]
  },
  "kernelspec": {
   "name": "python3",
   "display_name": "Python 3",
   "language": "python"
  },
  "language_info": {
   "name": "python",
   "version": "3.10.13",
   "mimetype": "text/x-python",
   "codemirror_mode": {
    "name": "ipython",
    "version": 3
   },
   "pygments_lexer": "ipython3",
   "nbconvert_exporter": "python",
   "file_extension": ".py"
  },
  "kaggle": {
   "accelerator": "nvidiaTeslaT4",
   "dataSources": [],
   "dockerImageVersionId": 30747,
   "isInternetEnabled": true,
   "language": "python",
   "sourceType": "notebook",
   "isGpuEnabled": true
  }
 },
 "nbformat_minor": 4,
 "nbformat": 4,
 "cells": [
  {
   "cell_type": "markdown",
   "source": [
    "#Preamble\n",
    "\n",
    "This mini-project involves working through all the steps of a problem, whereas prior assignments asked you to just implement core functions. We will give you a dataset, but you will also have the opportunity to manipulate the data in ways that you find beneficial to the overall project and to explain why and how those manipulations mattered. This will be in addition to building the model from scratch, developing the training loop, and implementing testing. The code will be accompanied by a report written into the notebook.\n",
    "\n",
    "This project will have you working with attention mechanism, in a new type of system for question-answering. This will provide you with experience working with attention mechanisms while not directly working with transformers.\n",
    "\n",
    "This assignment is not autograded. You can modify any code cells as long as you achieve the requirements of each graded component."
   ],
   "metadata": {
    "id": "3M1CFw-VT5vI"
   }
  },
  {
   "cell_type": "markdown",
   "source": [
    "# Introduction\n",
    "\n",
    "Memory networks learn to access external memory stores (a database or, in the case of this assignment, a dictionary). Key-Value Memory Networks specifically assume that the external memory store is organized as a dictionary with keys and values. In theory memory networks are useful when one wants a neural network to be able to know a lot of information but we don't want to try to encode that information directly into the parameters of the network. This means information can be changed in the external memory database without retraining the neural network.\n",
    "\n",
    "Given a question, e.g., \"Where was Alexander Hamilton born?\", a key-value memory network learns an embedding such that the question has a high cosine similarity to a particular key in the external dictionary. Because there are many keys that need to be matched against, key-value memory networks implement an attention-scoring mechanism to select a key. Because attention is a probabilistic score, the key-value memory network retrieves a sum of embeddings weighted according to the attention score. This weighted embedding is then compared to values using a second attention-scoring mechanism. The value with the highest cosine similarity can then be retrieved and returned as the answer.\n",
    "\n",
    "Memory networks were an important part of the evolution of question-answering systems that have been eclipsed by transformers. However, the attention mechanism in a key-value memory network is very similar to the self-attention inside a transformer, so implementing a key-value memory network is a really great way to experiment and learn about self-attention without the added complexity of transformers.\n",
    "\n",
    "Key-value memory networks are also closely related to retieval-based generation networks, except we will be retrieving facts from a dictionary instead of via the internet. However, the embedding of retrieved data will be similar.\n",
    "\n",
    "Key-value memory networks are described in this [paper](https://arxiv.org/abs/1606.03126). It is recommended that you read the paper, but we will also walk through the steps you will need to complete."
   ],
   "metadata": {
    "id": "yhZzhjGaTj9P"
   }
  },
  {
   "cell_type": "markdown",
   "source": [
    "# Some imports\n",
    "\n"
   ],
   "metadata": {
    "id": "XLQP14bxNXDx"
   }
  },
  {
   "cell_type": "markdown",
   "source": [
    "You may add imports as necessary."
   ],
   "metadata": {
    "id": "FAe6-NtARNjW"
   }
  },
  {
   "cell_type": "code",
   "source": [
    "import torch\n",
    "import torch.nn as nn\n",
    "from torch import optim\n",
    "import torch.nn.functional as F\n",
    "import re\n",
    "import os\n",
    "import json\n",
    "import random\n",
    "import numpy as np\n",
    "import pickle\n",
    "from tqdm import tqdm\n",
    "import nltk\n",
    "from nltk.corpus import stopwords\n",
    "import matplotlib.pyplot as plt\n",
    "from collections import Counter"
   ],
   "metadata": {
    "id": "JfnqkHKkITC3",
    "executionInfo": {
     "status": "ok",
     "timestamp": 1721363798028,
     "user_tz": -480,
     "elapsed": 7114,
     "user": {
      "displayName": "Cheng Hou",
      "userId": "04454898278176989701"
     }
    },
    "execution": {
     "iopub.status.busy": "2024-07-19T11:01:51.919921Z",
     "iopub.execute_input": "2024-07-19T11:01:51.920722Z",
     "iopub.status.idle": "2024-07-19T11:01:56.246397Z",
     "shell.execute_reply.started": "2024-07-19T11:01:51.920678Z",
     "shell.execute_reply": "2024-07-19T11:01:56.245622Z"
    },
    "trusted": true
   },
   "execution_count": 1,
   "outputs": []
  },
  {
   "cell_type": "code",
   "source": [
    "device = 'cuda' if torch.cuda.is_available() else 'cpu'\n",
    "device"
   ],
   "metadata": {
    "id": "AviW7dfn6pUi",
    "colab": {
     "base_uri": "https://localhost:8080/",
     "height": 36
    },
    "executionInfo": {
     "status": "ok",
     "timestamp": 1721363799353,
     "user_tz": -480,
     "elapsed": 8,
     "user": {
      "displayName": "Cheng Hou",
      "userId": "04454898278176989701"
     }
    },
    "outputId": "04082300-701d-4f07-ac32-cb607b0d701d",
    "execution": {
     "iopub.status.busy": "2024-07-19T11:01:56.603733Z",
     "iopub.execute_input": "2024-07-19T11:01:56.604579Z",
     "iopub.status.idle": "2024-07-19T11:01:56.665929Z",
     "shell.execute_reply.started": "2024-07-19T11:01:56.604549Z",
     "shell.execute_reply": "2024-07-19T11:01:56.665008Z"
    },
    "trusted": true
   },
   "execution_count": 2,
   "outputs": [
    {
     "execution_count": 2,
     "output_type": "execute_result",
     "data": {
      "text/plain": "'cuda'"
     },
     "metadata": {}
    }
   ]
  },
  {
   "cell_type": "markdown",
   "source": [
    "Unidecode is useful for getting rid of issues that arise from unicode. This should not be used if we care about unicode, but for the purposes of an instructional exercise, it eliminates a lot of edge cases that come up with unicode."
   ],
   "metadata": {
    "id": "fQM96JBsVHwF"
   }
  },
  {
   "cell_type": "code",
   "source": [
    "!pip install unidecode"
   ],
   "metadata": {
    "id": "EYuVdhWfAcGQ",
    "colab": {
     "base_uri": "https://localhost:8080/"
    },
    "executionInfo": {
     "status": "ok",
     "timestamp": 1721363810007,
     "user_tz": -480,
     "elapsed": 7260,
     "user": {
      "displayName": "Cheng Hou",
      "userId": "04454898278176989701"
     }
    },
    "outputId": "4b84f59e-5121-42b9-e99d-5ffe86e69479",
    "execution": {
     "iopub.status.busy": "2024-07-19T11:02:00.120739Z",
     "iopub.execute_input": "2024-07-19T11:02:00.121334Z",
     "iopub.status.idle": "2024-07-19T11:02:13.575321Z",
     "shell.execute_reply.started": "2024-07-19T11:02:00.121303Z",
     "shell.execute_reply": "2024-07-19T11:02:13.574203Z"
    },
    "trusted": true
   },
   "execution_count": 3,
   "outputs": [
    {
     "name": "stdout",
     "text": "Collecting unidecode\n  Downloading Unidecode-1.3.8-py3-none-any.whl.metadata (13 kB)\nDownloading Unidecode-1.3.8-py3-none-any.whl (235 kB)\n\u001B[2K   \u001B[90m━━━━━━━━━━━━━━━━━━━━━━━━━━━━━━━━━━━━━━━━\u001B[0m \u001B[32m235.5/235.5 kB\u001B[0m \u001B[31m6.3 MB/s\u001B[0m eta \u001B[36m0:00:00\u001B[0mta \u001B[36m0:00:01\u001B[0m\n\u001B[?25hInstalling collected packages: unidecode\nSuccessfully installed unidecode-1.3.8\n",
     "output_type": "stream"
    }
   ]
  },
  {
   "cell_type": "code",
   "source": [
    "import unidecode"
   ],
   "metadata": {
    "id": "3E_fVmV2_8ub",
    "executionInfo": {
     "status": "ok",
     "timestamp": 1721363811693,
     "user_tz": -480,
     "elapsed": 463,
     "user": {
      "displayName": "Cheng Hou",
      "userId": "04454898278176989701"
     }
    },
    "execution": {
     "iopub.status.busy": "2024-07-19T11:02:14.670240Z",
     "iopub.execute_input": "2024-07-19T11:02:14.670669Z",
     "iopub.status.idle": "2024-07-19T11:02:14.678888Z",
     "shell.execute_reply.started": "2024-07-19T11:02:14.670635Z",
     "shell.execute_reply": "2024-07-19T11:02:14.677974Z"
    },
    "trusted": true
   },
   "execution_count": 4,
   "outputs": []
  },
  {
   "cell_type": "markdown",
   "source": [
    "If you need to have a reduced vocabulary, you can create an unknown \"unk\" token and add it to the vocabulary. Make sure the token index in the vocabulary and `UNK_ID` match."
   ],
   "metadata": {
    "id": "p_bDmt5iSD_j"
   }
  },
  {
   "cell_type": "code",
   "source": [
    "UNK = 'unk'\n",
    "UNK_ID = 0"
   ],
   "metadata": {
    "id": "DDHhoxzyAByu",
    "executionInfo": {
     "status": "ok",
     "timestamp": 1721363813445,
     "user_tz": -480,
     "elapsed": 1,
     "user": {
      "displayName": "Cheng Hou",
      "userId": "04454898278176989701"
     }
    },
    "execution": {
     "iopub.status.busy": "2024-07-19T11:02:16.630977Z",
     "iopub.execute_input": "2024-07-19T11:02:16.631573Z",
     "iopub.status.idle": "2024-07-19T11:02:16.635453Z",
     "shell.execute_reply.started": "2024-07-19T11:02:16.631542Z",
     "shell.execute_reply": "2024-07-19T11:02:16.634566Z"
    },
    "trusted": true
   },
   "execution_count": 5,
   "outputs": []
  },
  {
   "cell_type": "markdown",
   "source": [
    "# Some utilities"
   ],
   "metadata": {
    "id": "Sl6J8BwVpHCw"
   }
  },
  {
   "cell_type": "markdown",
   "source": [
    "You may edit these as necessary."
   ],
   "metadata": {
    "id": "4LVVnmlNRKTp"
   }
  },
  {
   "cell_type": "markdown",
   "source": [
    "Stem words"
   ],
   "metadata": {
    "id": "4KF3VeFoSenc"
   }
  },
  {
   "cell_type": "code",
   "source": [
    "# Stemming the text\n",
    "def simple_stemmer(text):\n",
    "    ps=nltk.porter.PorterStemmer()\n",
    "    text= [ps.stem(word) for word in text]\n",
    "    return text"
   ],
   "metadata": {
    "id": "CPwG_8VrNUop",
    "executionInfo": {
     "status": "ok",
     "timestamp": 1721363814837,
     "user_tz": -480,
     "elapsed": 2,
     "user": {
      "displayName": "Cheng Hou",
      "userId": "04454898278176989701"
     }
    },
    "execution": {
     "iopub.status.busy": "2024-07-19T11:02:18.681477Z",
     "iopub.execute_input": "2024-07-19T11:02:18.681833Z",
     "iopub.status.idle": "2024-07-19T11:02:18.686657Z",
     "shell.execute_reply.started": "2024-07-19T11:02:18.681805Z",
     "shell.execute_reply": "2024-07-19T11:02:18.685714Z"
    },
    "trusted": true
   },
   "execution_count": 6,
   "outputs": []
  },
  {
   "cell_type": "markdown",
   "source": [
    "Simple tokenizer that only keeps letters and numbers."
   ],
   "metadata": {
    "id": "mDg9vUiDShG-"
   }
  },
  {
   "cell_type": "code",
   "source": [
    "def tokenize(line):\n",
    "    line = re.sub(r'[^a-zA-Z0-9]', ' ', unidecode.unidecode(line)) # remove punctuation\n",
    "    line = line.lower().split()  # lower case\n",
    "    return line"
   ],
   "metadata": {
    "id": "eEofSDrQ9fg_",
    "executionInfo": {
     "status": "ok",
     "timestamp": 1721363816296,
     "user_tz": -480,
     "elapsed": 1,
     "user": {
      "displayName": "Cheng Hou",
      "userId": "04454898278176989701"
     }
    },
    "execution": {
     "iopub.status.busy": "2024-07-19T11:02:20.926513Z",
     "iopub.execute_input": "2024-07-19T11:02:20.926865Z",
     "iopub.status.idle": "2024-07-19T11:02:20.931817Z",
     "shell.execute_reply.started": "2024-07-19T11:02:20.926835Z",
     "shell.execute_reply": "2024-07-19T11:02:20.930813Z"
    },
    "trusted": true
   },
   "execution_count": 7,
   "outputs": []
  },
  {
   "cell_type": "markdown",
   "source": [
    "A standard vocabulary object class"
   ],
   "metadata": {
    "id": "IH2QW9FjSrJh"
   }
  },
  {
   "cell_type": "code",
   "source": [
    "class Vocab:\n",
    "    def __init__(self, name = 'vocab'):\n",
    "        self.name = name\n",
    "        self._word2index = {}\n",
    "        self._word2count = {}\n",
    "        self._index2word = {}\n",
    "        self._n_words = 0\n",
    "\n",
    "    def get_words(self):\n",
    "      return list(self._word2count.keys())\n",
    "\n",
    "    def num_words(self):\n",
    "      return self._n_words\n",
    "\n",
    "    def word2index(self, word):\n",
    "      return self._word2index[word]\n",
    "\n",
    "    def index2word(self, word):\n",
    "      return self._index2word[word]\n",
    "\n",
    "    def word2count(self, word):\n",
    "      return self._word2count[word]\n",
    "\n",
    "    def add_sentence(self, sentence):\n",
    "        for word in tokenize(sentence):\n",
    "            self.add_word(word)\n",
    "\n",
    "    def add_word(self, word):\n",
    "        if word not in self._word2index:\n",
    "            self._word2index[word] = self._n_words\n",
    "            self._word2count[word] = 1\n",
    "            self._index2word[self._n_words] = word\n",
    "            self._n_words += 1\n",
    "        else:\n",
    "            self._word2count[word] += 1"
   ],
   "metadata": {
    "id": "25siAXsXOJj9",
    "executionInfo": {
     "status": "ok",
     "timestamp": 1721363818029,
     "user_tz": -480,
     "elapsed": 3,
     "user": {
      "displayName": "Cheng Hou",
      "userId": "04454898278176989701"
     }
    },
    "execution": {
     "iopub.status.busy": "2024-07-19T11:02:23.071574Z",
     "iopub.execute_input": "2024-07-19T11:02:23.071904Z",
     "iopub.status.idle": "2024-07-19T11:02:23.081163Z",
     "shell.execute_reply.started": "2024-07-19T11:02:23.071879Z",
     "shell.execute_reply": "2024-07-19T11:02:23.080200Z"
    },
    "trusted": true
   },
   "execution_count": 8,
   "outputs": []
  },
  {
   "cell_type": "markdown",
   "source": [
    "Make a bag of words frmo a sentence, given a vocabulary. Can return a bag of word counts or a a bag of word presences."
   ],
   "metadata": {
    "id": "esAT3lG1S5cV"
   }
  },
  {
   "cell_type": "code",
   "source": [
    "# def multihot(s, vocab, preserve_counts = False):\n",
    "#   tokens = np.array([vocab.word2index(t) for t in tokenize(s)])\n",
    "#   mhot = np.zeros((tokens.size, vocab.num_words()))\n",
    "#   mhot[np.arange(tokens.size), tokens] = 1\n",
    "#   if preserve_counts:\n",
    "#     return mhot.sum(0)\n",
    "#   else:\n",
    "#     return mhot.sum(0) >= 1\n",
    "\n",
    "def multihot(s, vocab, preserve_counts = False):\n",
    "  tokens = list(map(lambda x: UNK if x not in vocab._word2index else x, tokenize(s)))\n",
    "  tokens = np.array([vocab.word2index(t) for t in tokens])\n",
    "  mhot = np.zeros((tokens.size, vocab.num_words()))\n",
    "  mhot[np.arange(tokens.size), tokens] = 1\n",
    "  if preserve_counts:\n",
    "    return mhot.sum(0)\n",
    "  else:\n",
    "    mhot = mhot.sum(0)\n",
    "    mhot[mhot >= 1] = 1\n",
    "    return mhot\n"
   ],
   "metadata": {
    "id": "oKJP2y8g-TFE",
    "executionInfo": {
     "status": "ok",
     "timestamp": 1721363819995,
     "user_tz": -480,
     "elapsed": 452,
     "user": {
      "displayName": "Cheng Hou",
      "userId": "04454898278176989701"
     }
    },
    "execution": {
     "iopub.status.busy": "2024-07-19T11:02:26.272891Z",
     "iopub.execute_input": "2024-07-19T11:02:26.273540Z",
     "iopub.status.idle": "2024-07-19T11:02:26.280256Z",
     "shell.execute_reply.started": "2024-07-19T11:02:26.273508Z",
     "shell.execute_reply": "2024-07-19T11:02:26.279265Z"
    },
    "trusted": true
   },
   "execution_count": 9,
   "outputs": []
  },
  {
   "cell_type": "markdown",
   "source": [
    "If you have a reduced vocabulary, use this to replace out-of-vocab words. If you use this, you may want to merge it with `multihot` above to avoid tokenizing twice."
   ],
   "metadata": {
    "id": "4w8BflMUTLW_"
   }
  },
  {
   "cell_type": "code",
   "source": [
    "def unkit(s, vocab):\n",
    "  return ' '.join(list(map(lambda x: UNK if x not in vocab._word2index else x, tokenize(s))))"
   ],
   "metadata": {
    "id": "LfvAfjEl7Z6j",
    "executionInfo": {
     "status": "ok",
     "timestamp": 1721363822792,
     "user_tz": -480,
     "elapsed": 534,
     "user": {
      "displayName": "Cheng Hou",
      "userId": "04454898278176989701"
     }
    },
    "execution": {
     "iopub.status.busy": "2024-07-19T11:02:28.584438Z",
     "iopub.execute_input": "2024-07-19T11:02:28.584796Z",
     "iopub.status.idle": "2024-07-19T11:02:28.589437Z",
     "shell.execute_reply.started": "2024-07-19T11:02:28.584767Z",
     "shell.execute_reply": "2024-07-19T11:02:28.588531Z"
    },
    "trusted": true
   },
   "execution_count": 10,
   "outputs": []
  },
  {
   "cell_type": "markdown",
   "source": [
    "# Part A: Download and Process Data (0 points)"
   ],
   "metadata": {
    "id": "YHZm-bAanrrf"
   }
  },
  {
   "cell_type": "markdown",
   "source": [
    "This dataset contains the information in tables that are commonly used in Wikipedia biography pages. Each person has different rows of information pertaining to their notable accomplishments and details about their life. There are a large number of types of information that can appear as rows in the biography tables, however they are relatively uniform. We call the keys of the rows \"relations\".\n",
    "\n",
    "For example [Alexander Hamilton](https://en.wikipedia.org/wiki/Alexander_Hamilton) has information about the President he worked for as Secretary of State, birth date, date of death, parents' names, etc.\n",
    "\n",
    "The code below will download the dataset and process it to create two things:\n",
    "- `DB`: a hash table that map titles of biography wikipedia articles to table information. The table information is represented as a nested hash table containing relations as keys, and associated values. For example, `DB['alexander hamilton'] = {'party': 'federalist',\n",
    " 'spouse': 'elizabeth schuyler', ...}`\n",
    "- `VOCAB`: A vocabulary object that maps words to tokens and vice versa."
   ],
   "metadata": {
    "id": "u-L61V7tVPok"
   }
  },
  {
   "cell_type": "markdown",
   "source": [
    "## Download Data"
   ],
   "metadata": {
    "id": "63gSR-fsDFKu"
   }
  },
  {
   "cell_type": "code",
   "source": [
    "!git clone https://github.com/rlebret/wikipedia-biography-dataset.git"
   ],
   "metadata": {
    "id": "PYzcdAR2ntvm",
    "execution": {
     "iopub.status.busy": "2024-07-19T11:02:31.652444Z",
     "iopub.execute_input": "2024-07-19T11:02:31.652788Z",
     "iopub.status.idle": "2024-07-19T11:03:06.292425Z",
     "shell.execute_reply.started": "2024-07-19T11:02:31.652761Z",
     "shell.execute_reply": "2024-07-19T11:03:06.291303Z"
    },
    "trusted": true
   },
   "execution_count": 11,
   "outputs": [
    {
     "name": "stdout",
     "text": "Cloning into 'wikipedia-biography-dataset'...\nremote: Enumerating objects: 93, done.\u001B[K\nremote: Total 93 (delta 0), reused 0 (delta 0), pack-reused 93\u001B[K\nUnpacking objects: 100% (93/93), 338.68 MiB | 10.35 MiB/s, done.\n",
     "output_type": "stream"
    }
   ]
  },
  {
   "cell_type": "code",
   "source": [
    "!cat wikipedia-biography-dataset/wikipedia-biography-dataset.z?? > tmp.zip\n",
    "!unzip -o tmp.zip\n",
    "!rm tmp.zip"
   ],
   "metadata": {
    "id": "RZEHbtftn17L",
    "execution": {
     "iopub.status.busy": "2024-07-19T11:03:08.270230Z",
     "iopub.execute_input": "2024-07-19T11:03:08.270626Z",
     "iopub.status.idle": "2024-07-19T11:03:20.584087Z",
     "shell.execute_reply.started": "2024-07-19T11:03:08.270593Z",
     "shell.execute_reply": "2024-07-19T11:03:20.582760Z"
    },
    "trusted": true
   },
   "execution_count": 12,
   "outputs": [
    {
     "name": "stdout",
     "text": "Archive:  tmp.zip\n   creating: wikipedia-biography-dataset/test/\n  inflating: wikipedia-biography-dataset/test/test.box  \n  inflating: wikipedia-biography-dataset/test/test.id  \n  inflating: wikipedia-biography-dataset/test/test.nb  \n  inflating: wikipedia-biography-dataset/test/test.sent  \n  inflating: wikipedia-biography-dataset/test/test.url  \n  inflating: wikipedia-biography-dataset/test/test.contributors  \n  inflating: wikipedia-biography-dataset/test/test.title  \n   creating: wikipedia-biography-dataset/train/\n  inflating: wikipedia-biography-dataset/train/train.box  \n  inflating: wikipedia-biography-dataset/train/train.id  \n  inflating: wikipedia-biography-dataset/train/train.nb  \n  inflating: wikipedia-biography-dataset/train/train.sent  \n  inflating: wikipedia-biography-dataset/train/train.url  \n  inflating: wikipedia-biography-dataset/train/train.contributors  \n  inflating: wikipedia-biography-dataset/train/train.title  \n   creating: wikipedia-biography-dataset/valid/\n  inflating: wikipedia-biography-dataset/valid/valid.box  \n  inflating: wikipedia-biography-dataset/valid/valid.id  \n  inflating: wikipedia-biography-dataset/valid/valid.nb  \n  inflating: wikipedia-biography-dataset/valid/valid.sent  \n  inflating: wikipedia-biography-dataset/valid/valid.url  \n  inflating: wikipedia-biography-dataset/valid/valid.contributors  \n  inflating: wikipedia-biography-dataset/valid/valid.title  \n  inflating: wikipedia-biography-dataset/LICENSE.txt  \n  inflating: wikipedia-biography-dataset/.DS_Store  \n  inflating: wikipedia-biography-dataset/._.DS_Store  \n  inflating: wikipedia-biography-dataset/README.txt  \n",
     "output_type": "stream"
    }
   ]
  },
  {
   "cell_type": "markdown",
   "source": [
    "Get all the wikipedia titles."
   ],
   "metadata": {
    "id": "1rRYqmfSTcw0"
   }
  },
  {
   "cell_type": "code",
   "source": [
    "train_titles = []\n",
    "with open(\"wikipedia-biography-dataset/train/train.title\", \"r\") as file:\n",
    "  for line in file:\n",
    "    train_titles.append(line.rstrip())"
   ],
   "metadata": {
    "id": "mdVrlCf-4TAq",
    "execution": {
     "iopub.status.busy": "2024-07-19T11:03:20.586179Z",
     "iopub.execute_input": "2024-07-19T11:03:20.586479Z",
     "iopub.status.idle": "2024-07-19T11:03:20.876700Z",
     "shell.execute_reply.started": "2024-07-19T11:03:20.586455Z",
     "shell.execute_reply": "2024-07-19T11:03:20.875571Z"
    },
    "trusted": true
   },
   "execution_count": 13,
   "outputs": []
  },
  {
   "cell_type": "markdown",
   "source": [
    "Boxes contain all the information, with each line corresponding to a title in `titles`."
   ],
   "metadata": {
    "id": "YOkCic0NTeuS"
   }
  },
  {
   "cell_type": "code",
   "source": [
    "train_boxes = []\n",
    "with open(\"wikipedia-biography-dataset/train/train.box\", \"r\") as file:\n",
    "  for line in file:\n",
    "    train_boxes.append(line.rstrip())"
   ],
   "metadata": {
    "id": "C80pu63x4o-Y",
    "execution": {
     "iopub.status.busy": "2024-07-19T11:03:20.877936Z",
     "iopub.execute_input": "2024-07-19T11:03:20.878314Z",
     "iopub.status.idle": "2024-07-19T11:03:23.058732Z",
     "shell.execute_reply.started": "2024-07-19T11:03:20.878287Z",
     "shell.execute_reply": "2024-07-19T11:03:23.057699Z"
    },
    "trusted": true
   },
   "execution_count": 14,
   "outputs": []
  },
  {
   "cell_type": "markdown",
   "source": [
    "This will make the DB object, a dictionary of dictionaries for each wikipedia title, which is more or less the same as names. This function only keeps politicians (containing the \"office\" key term) and strips out information about images. It can be improved in many ways."
   ],
   "metadata": {
    "id": "63cxS1DWTk0h"
   }
  },
  {
   "cell_type": "code",
   "source": [
    "# Make a dictionary of dictionaries\n",
    "def make_db(titles, boxes):\n",
    "  db = {} # The DB\n",
    "  # Iterate through titles\n",
    "  for i in tqdm(range(len(titles))):\n",
    "    box = boxes[i] # Grab the corresponding box information\n",
    "    d  = {} # Inner dictionary\n",
    "    # Build a dict for the ith entry\n",
    "    # grab each key:value pair\n",
    "    for pair in re.findall(r'([a-zA-Z_]+)[0-9]*\\:([\\w\\d]+)', box):\n",
    "      key, value = pair\n",
    "      # Do a bit of cleaning\n",
    "      key = key.strip()\n",
    "      value = value.strip()\n",
    "      # If the key contains the word image, we probably don't want to keep it\n",
    "      if 'image' not in key:\n",
    "        # The regex maintains underscores, strip those off\n",
    "        if key[-1] == '_':\n",
    "          key = key[:-1]\n",
    "        # Make a new entry in inner dictionary if we don't have one\n",
    "        if key not in d:\n",
    "          d[key] = value\n",
    "        # Keys with compound values are split up, which is annoying, so put them back together\n",
    "        else:\n",
    "          d[key] += ' ' + value\n",
    "    # If it has an office key, keep it.\n",
    "    if 'office' in d:\n",
    "      db[titles[i]] = d\n",
    "  return db"
   ],
   "metadata": {
    "id": "Pr97KJLc4v7v",
    "executionInfo": {
     "status": "ok",
     "timestamp": 1721363828710,
     "user_tz": -480,
     "elapsed": 484,
     "user": {
      "displayName": "Cheng Hou",
      "userId": "04454898278176989701"
     }
    },
    "execution": {
     "iopub.status.busy": "2024-07-19T11:03:43.117039Z",
     "iopub.execute_input": "2024-07-19T11:03:43.117422Z",
     "iopub.status.idle": "2024-07-19T11:03:43.124827Z",
     "shell.execute_reply.started": "2024-07-19T11:03:43.117393Z",
     "shell.execute_reply": "2024-07-19T11:03:43.123917Z"
    },
    "trusted": true
   },
   "execution_count": 19,
   "outputs": []
  },
  {
   "cell_type": "markdown",
   "source": [
    "Build the vocab from the DB. Convert the whole thing into a string, tokenize it, and feed the surviving words into the vocab."
   ],
   "metadata": {
    "id": "S9hB1o63U45e"
   }
  },
  {
   "cell_type": "code",
   "source": [
    "def make_vocab(DB):\n",
    "  # Make the vocab object\n",
    "  vocab = Vocab()\n",
    "  # Tokenize the data by converting the entire DB into a string\n",
    "  tokens = tokenize(str(DB))\n",
    "  # Iterate through all the tokens (tqdm provides a progress bar)\n",
    "  for t in tqdm(tokens):\n",
    "    vocab.add_word(t)\n",
    "  return vocab"
   ],
   "metadata": {
    "id": "p13O5dcVvdZu",
    "executionInfo": {
     "status": "ok",
     "timestamp": 1721363833217,
     "user_tz": -480,
     "elapsed": 436,
     "user": {
      "displayName": "Cheng Hou",
      "userId": "04454898278176989701"
     }
    },
    "execution": {
     "iopub.status.busy": "2024-07-19T11:03:47.186290Z",
     "iopub.execute_input": "2024-07-19T11:03:47.186667Z",
     "iopub.status.idle": "2024-07-19T11:03:47.191935Z",
     "shell.execute_reply.started": "2024-07-19T11:03:47.186636Z",
     "shell.execute_reply": "2024-07-19T11:03:47.190827Z"
    },
    "trusted": true
   },
   "execution_count": 20,
   "outputs": []
  },
  {
   "cell_type": "markdown",
   "source": [
    "If you want to discard rare words, this will rebuild the vocab. This is just an example."
   ],
   "metadata": {
    "id": "Zkjf7mbAVA9H"
   }
  },
  {
   "cell_type": "code",
   "source": [
    "def reduce_vocab(vocab, min_word_occurrence = 2):\n",
    "  # make a new vocab\n",
    "  vocab2 = Vocab(\"top\")\n",
    "  # Add the UNK token\n",
    "  vocab2.add_word(UNK)\n",
    "  # Iterate through vocabulary\n",
    "  for w in list(vocab._word2count.keys()):\n",
    "    count = vocab._word2count[w]\n",
    "    idx = vocab._word2index[w]\n",
    "    # If the word count passes threshold, add it to the new vocabulary object\n",
    "    if count >= min_word_occurrence:\n",
    "      vocab2.add_word(w)\n",
    "      vocab2._word2count[w] = count\n",
    "  # Return the new vocabulary object\n",
    "  return vocab2"
   ],
   "metadata": {
    "id": "448Ww-BFtBL3",
    "executionInfo": {
     "status": "ok",
     "timestamp": 1721363834496,
     "user_tz": -480,
     "elapsed": 1,
     "user": {
      "displayName": "Cheng Hou",
      "userId": "04454898278176989701"
     }
    },
    "execution": {
     "iopub.status.busy": "2024-07-19T11:03:49.457088Z",
     "iopub.execute_input": "2024-07-19T11:03:49.457470Z",
     "iopub.status.idle": "2024-07-19T11:03:49.463350Z",
     "shell.execute_reply.started": "2024-07-19T11:03:49.457439Z",
     "shell.execute_reply": "2024-07-19T11:03:49.462373Z"
    },
    "trusted": true
   },
   "execution_count": 21,
   "outputs": []
  },
  {
   "cell_type": "markdown",
   "source": [
    "Make the DB"
   ],
   "metadata": {
    "id": "iVS602YPVE9N"
   }
  },
  {
   "cell_type": "code",
   "source": [
    "DB = make_db(train_titles, train_boxes)\n"
   ],
   "metadata": {
    "id": "cio_ZwncrGf0",
    "execution": {
     "iopub.status.busy": "2024-07-19T11:03:52.315088Z",
     "iopub.execute_input": "2024-07-19T11:03:52.315915Z",
     "iopub.status.idle": "2024-07-19T11:05:17.688273Z",
     "shell.execute_reply.started": "2024-07-19T11:03:52.315884Z",
     "shell.execute_reply": "2024-07-19T11:05:17.687223Z"
    },
    "trusted": true
   },
   "execution_count": 22,
   "outputs": [
    {
     "name": "stderr",
     "text": "100%|██████████| 582659/582659 [01:25<00:00, 6825.53it/s]\n",
     "output_type": "stream"
    }
   ]
  },
  {
   "cell_type": "code",
   "source": [
    "print(len(DB))"
   ],
   "metadata": {
    "id": "sCcrE8-C33VI",
    "execution": {
     "iopub.status.busy": "2024-07-19T11:05:20.773811Z",
     "iopub.execute_input": "2024-07-19T11:05:20.774466Z",
     "iopub.status.idle": "2024-07-19T11:05:20.779231Z",
     "shell.execute_reply.started": "2024-07-19T11:05:20.774434Z",
     "shell.execute_reply": "2024-07-19T11:05:20.778226Z"
    },
    "trusted": true
   },
   "execution_count": 23,
   "outputs": [
    {
     "name": "stdout",
     "text": "40786\n",
     "output_type": "stream"
    }
   ]
  },
  {
   "cell_type": "markdown",
   "source": [
    "Make the VOCAB"
   ],
   "metadata": {
    "id": "ETLqtWtyVKLE"
   }
  },
  {
   "cell_type": "code",
   "source": [
    "VOCAB = make_vocab(DB)\n"
   ],
   "metadata": {
    "id": "lc7oi3p54SOb",
    "execution": {
     "iopub.status.busy": "2024-07-19T11:05:38.277022Z",
     "iopub.execute_input": "2024-07-19T11:05:38.277914Z",
     "iopub.status.idle": "2024-07-19T11:05:56.217580Z",
     "shell.execute_reply.started": "2024-07-19T11:05:38.277878Z",
     "shell.execute_reply": "2024-07-19T11:05:56.216636Z"
    },
    "trusted": true
   },
   "execution_count": 24,
   "outputs": [
    {
     "name": "stderr",
     "text": "100%|██████████| 2997937/2997937 [00:02<00:00, 1087097.80it/s]\n",
     "output_type": "stream"
    }
   ]
  },
  {
   "cell_type": "code",
   "source": [
    "print(VOCAB.num_words())"
   ],
   "metadata": {
    "id": "MzHpbHc736yh",
    "execution": {
     "iopub.status.busy": "2024-07-19T11:05:58.922319Z",
     "iopub.execute_input": "2024-07-19T11:05:58.922681Z",
     "iopub.status.idle": "2024-07-19T11:05:58.927775Z",
     "shell.execute_reply.started": "2024-07-19T11:05:58.922654Z",
     "shell.execute_reply": "2024-07-19T11:05:58.926675Z"
    },
    "trusted": true
   },
   "execution_count": 25,
   "outputs": [
    {
     "name": "stdout",
     "text": "96093\n",
     "output_type": "stream"
    }
   ]
  },
  {
   "cell_type": "markdown",
   "source": [
    "## Save Processed Data"
   ],
   "metadata": {
    "id": "Y9AP3Dcle5VC"
   }
  },
  {
   "cell_type": "markdown",
   "source": [
    "You may find it useful to save the processed dataset to your Google Drive.\n",
    "\n",
    "It is recommended that you save the file to your Google Drive. To mount your Google Drive, open the file icon on the left side of the screen to get to the option). To save the file in your Google Drive use the path `'drive/MyDrive/filename'`.)"
   ],
   "metadata": {
    "id": "QiTQxguSXEuq"
   }
  },
  {
   "cell_type": "code",
   "source": [
    "with open(\"drive/MyDrive/data\", \"wb\") as f:\n",
    "  pickle.dump(DB, f, protocol=None, fix_imports=True, buffer_callback=None)"
   ],
   "metadata": {
    "id": "DwagcDU_Ut2Q"
   },
   "execution_count": null,
   "outputs": []
  },
  {
   "cell_type": "code",
   "source": [
    "with open('drive/MyDrive/vocab', 'wb') as f:\n",
    "    pickle.dump(VOCAB, f, protocol=None, fix_imports=True, buffer_callback=None)"
   ],
   "metadata": {
    "id": "WS6a8EtX_h0F"
   },
   "execution_count": null,
   "outputs": []
  },
  {
   "cell_type": "markdown",
   "source": [
    "## Load processed data"
   ],
   "metadata": {
    "id": "lzlH6IKhe_Qa"
   }
  },
  {
   "cell_type": "markdown",
   "source": [
    "If you have saved the processed data in your Google Drive, you can re-load it with these commands."
   ],
   "metadata": {
    "id": "2AlkMbibXYWg"
   }
  },
  {
   "cell_type": "code",
   "source": [
    "from google.colab import drive\n",
    "drive.mount('/content/drive')"
   ],
   "metadata": {
    "id": "6DNxueU-gpz_",
    "colab": {
     "base_uri": "https://localhost:8080/"
    },
    "executionInfo": {
     "status": "ok",
     "timestamp": 1721363862548,
     "user_tz": -480,
     "elapsed": 21837,
     "user": {
      "displayName": "Cheng Hou",
      "userId": "04454898278176989701"
     }
    },
    "outputId": "7d91f3ee-55b1-4ab1-c9ed-c99170732f0c",
    "_kg_hide-output": true,
    "trusted": true
   },
   "execution_count": null,
   "outputs": []
  },
  {
   "cell_type": "code",
   "source": [
    "with open(\"drive/MyDrive/vocab\", \"rb\") as f:\n",
    "  VOCAB = pickle.load(f)"
   ],
   "metadata": {
    "id": "ZCaiBhdvCa_C",
    "executionInfo": {
     "status": "ok",
     "timestamp": 1721363869478,
     "user_tz": -480,
     "elapsed": 947,
     "user": {
      "displayName": "Cheng Hou",
      "userId": "04454898278176989701"
     }
    },
    "trusted": true
   },
   "execution_count": null,
   "outputs": []
  },
  {
   "cell_type": "code",
   "source": [
    "with open(\"drive/MyDrive/data\", \"rb\") as f:\n",
    "  DB = pickle.load(f)"
   ],
   "metadata": {
    "id": "IinOyL_4C1Hx",
    "executionInfo": {
     "status": "ok",
     "timestamp": 1721363872028,
     "user_tz": -480,
     "elapsed": 886,
     "user": {
      "displayName": "Cheng Hou",
      "userId": "04454898278176989701"
     }
    }
   },
   "execution_count": 16,
   "outputs": []
  },
  {
   "cell_type": "code",
   "source": [
    "# Preprocessed DB and Vocab data size\n",
    "print(\"Original DB len: \", len(DB))\n",
    "print(\"Original VOCAB num: \", VOCAB.num_words())"
   ],
   "metadata": {
    "colab": {
     "base_uri": "https://localhost:8080/"
    },
    "id": "7yfO1OHADd5r",
    "executionInfo": {
     "status": "ok",
     "timestamp": 1721363873380,
     "user_tz": -480,
     "elapsed": 2,
     "user": {
      "displayName": "Cheng Hou",
      "userId": "04454898278176989701"
     }
    },
    "outputId": "f95269e0-c414-40e6-8cb5-b311e0234701",
    "execution": {
     "iopub.status.busy": "2024-07-19T06:28:31.739936Z",
     "iopub.execute_input": "2024-07-19T06:28:31.740283Z",
     "iopub.status.idle": "2024-07-19T06:28:31.745815Z",
     "shell.execute_reply.started": "2024-07-19T06:28:31.740255Z",
     "shell.execute_reply": "2024-07-19T06:28:31.744751Z"
    },
    "trusted": true
   },
   "execution_count": 28,
   "outputs": [
    {
     "name": "stdout",
     "text": "Original DB len:  40786\nOriginal VOCAB num:  96093\n",
     "output_type": "stream"
    }
   ]
  },
  {
   "cell_type": "markdown",
   "source": [
    "## Data example"
   ],
   "metadata": {
    "id": "vcZcFUxrfCnB"
   }
  },
  {
   "cell_type": "markdown",
   "source": [
    "Get to know your data."
   ],
   "metadata": {
    "id": "jKKoOuLCVYxd"
   }
  },
  {
   "cell_type": "code",
   "source": [
    "# @title\n",
    "DB[\"alexander hamilton\"]"
   ],
   "metadata": {
    "id": "dbLkOyB2pp_M",
    "colab": {
     "base_uri": "https://localhost:8080/"
    },
    "executionInfo": {
     "status": "ok",
     "timestamp": 1721363877364,
     "user_tz": -480,
     "elapsed": 433,
     "user": {
      "displayName": "Cheng Hou",
      "userId": "04454898278176989701"
     }
    },
    "outputId": "02797c78-ffed-4243-b7ac-23603461cbc6",
    "execution": {
     "iopub.status.busy": "2024-07-19T11:06:04.471361Z",
     "iopub.execute_input": "2024-07-19T11:06:04.471725Z",
     "iopub.status.idle": "2024-07-19T11:06:04.478392Z",
     "shell.execute_reply.started": "2024-07-19T11:06:04.471697Z",
     "shell.execute_reply": "2024-07-19T11:06:04.477467Z"
    },
    "trusted": true
   },
   "execution_count": 26,
   "outputs": [
    {
     "execution_count": 26,
     "output_type": "execute_result",
     "data": {
      "text/plain": "{'name': 'alexander hamilton',\n 'office': '1st united states secretary of the treasury senior officer of the army delegate to the congress of the confederation from new york',\n 'president': 'george washington john adams',\n 'term_start': 'september 11 1789 december 14 1799 november 3 1788 november 4 1782',\n 'term_end': 'january 31 1795 june 15 1800 march 2 1789 june 21 1783',\n 'predecessor': 'position established george washington egbert benson seat established',\n 'successor': 'oliver wolcott jr james wilkinson seat abolished seat abolished',\n 'birth_date': '11 january 1755',\n 'birth_place': 'charlestown nevis british west indies',\n 'death_date': 'july 12 1804 aged 47 or 49',\n 'death_place': 'new york city new york u',\n 'party': 'federalist',\n 'spouse': 'elizabeth schuyler',\n 'children': 'philip angelica alexander james alexander john church william stephen eliza holly phil',\n 'alma_mater': 'kings college new york',\n 'religion': 'presbyterian episcopalian convert',\n 'signature': 'alexander hamilton signaturert',\n 'allegiance': 'flag_of_new_york _ 1778 svg 23px new york 1775 1777 united states 1795 23px 1777 1800',\n 'branch': 'flag_of_new_york _ 1778 svg 23px new york company of artillery united states 1777 23px continental army 25px united states army',\n 'serviceyears': '1775 1776 militia 1776 1781 1798 1800',\n 'rank': '23px',\n 'article_title': 'alexander hamilton'}"
     },
     "metadata": {}
    }
   ]
  },
  {
   "cell_type": "markdown",
   "source": [
    "# Part B: Implement the Key-Value Memory Network (10 points)"
   ],
   "metadata": {
    "id": "ITACHJTWfE5m"
   }
  },
  {
   "cell_type": "markdown",
   "source": [
    "This [paper](https://arxiv.org/abs/1606.03126) describes the key-value memory networks in detail, which is also sketched out below.\n",
    "\n",
    "A key-value memory network takes a natural language question. This question will be converted into a bag-of-words (i.e., a multihot) Call this $x$ and it is a 1D tensor of vocabulary length.\n",
    "\n",
    "![KVMemNet architecture](https://github.com/markriedl/kvmemnet-assignment/blob/32479dd1e88a9f8dfc72f11ccb8e9e0e1f78905f/kvmemnet-inside.png?raw=true)\n",
    "\n",
    "The KVMemNet will contain a linear layer (or embedding layer) that will produce a 1D embedding of the question $q=A(x)$.\n",
    "\n",
    "The KVMemNet will also take in a stack of keys as a tensor of shape `num_keys x vocab_size`. Each row is embedded using the same embedding, $k=A(keys)$, producing a tensor of shape `num_keys x embed_dim`. How this stack of keys is chosen will be discussed below.\n",
    "\n",
    "The KVMemNet will take in a third input, a stack of values associated with the stack of keys. This will also be of shape `num_values x vocab_size`. Each row is embedded using the same embedding, $v=A(values)$, producing a tensor of shape `num_keys x embed_dim`.\n",
    "\n",
    "The KVMemNet will also contain a second linear embedding layer, $B$. More on this later.\n",
    "\n",
    "Once we have `q`, `k`, and `v` embeddings, the next step is to use `q` and `k` to compute attention scores that can be applied against `v`. Think of $A$ as learning how to make questions and the keys that should match against values that have received the same treatment.\n",
    "\n",
    "The attention scores `p` are computed by taking the inner-product (`torch.inner()`) between `q` and `k`. The result will be a 1D tensor with `num_keys` length. Use softmax so that `p` contains scores between 1.0 and 0.0.\n",
    "\n",
    "You may be wondering why there isn't a non-linearity such as a sigmoid or ReLU after the linear layer. Softmax is a non-linearity.\n",
    "\n",
    "Next apply the `p` attention scores against `v` to apply a weight against each value in the stack of values. One should be highly weighted and the rest less weighted. Sum all the weighted values up to create a 1D tensor `o` of feature weights of length `embed_dim`. `p` can be thought of as how much of each value gets selected. Then they all get combined together and the feature weights are proportional to how much each value was attended to. The `torch.matmul()` can do the multiplication and summing in one step.\n",
    "\n",
    "The KVMemNet forward function should return this tensor of feature weights `o`.\n",
    "\n",
    "A quick note on `k` and `v`. We can't send the entire set of keys and values in our database through the network's forward function. Instead there should be a selection mechanism that selects just a subset of the database. This subset should contain the best key for the question $x$ to match against, and its corresponding value. We assume that a shallow selection process can narrow down the key-value pairs to a relatively small set, one of which will be best. For example, if the question involves \"Alexander Hamilton\", we can reasonably guess that the best key-value pair is in the part of the database associated with the named person.\n",
    "\n",
    "We are not done though. What about our linear layer $B$? Suppose variable `Y` contains our entire set of values in our databse as bags of words. $B$ is going to be used to embed our entire set of database values $y=B(Y)$. $B$ can be thought of as learning how to make all the values look like the feature weights output by the model such that the highest cosine similarity corresponds to the correct value taken from *all* values in the database.\n",
    "\n",
    "$B$ should live inside the KVMemNet object so that its parameters become trainable, but notice that we do not use $B$ in the KVMemNet's forward function. $B$ will get used to prepare the stack of all values in the database for training. It will bet used in the training loop but outside of the forward function. This is a bit unusual, but necessary to figure out the correct target (the true index of the best value to match against) for training.\n",
    "\n",
    "The above explantion only implements *single-hop* retrieval. *multi-hop* retrieval allows the results of one retrieval to inform a second (and third and so on) to get the right retrieval. This would be used in the case where the answer cannot be inferred directly from the question in a single retrieval, such as \"What was the founding date of the country that Alexander Hamilton was born in?\". To implement multi-hop retrieval, the KVMemNet will have additional linear layers $R_1...R_n$. Each $R_{i}$ will do a linear transform on `q` then attention will score and retrieve values as feature weights `o`. This will be sent to the next $R_{i+1}$ and so on until the hops are complete. This final `o` will be returned.\n",
    "\n",
    "For this assignment is is sufficient to only do *single-hop* retrieval.\n",
    "\n",
    "The above explanation does not include consideration of batching. You may want to add a batch dimension as the first dimension and input a batch as a set of questions, a set of stacks of keys, and a set of stacks of values. To do this, functions like `.inner()`, `.mm()`, and`.matmul()` will not work. Instead use `.bmm()` which handles batching correctly. You will probably need to do some `.squeeze()` and `.unsqueeze()` operations to make sure your tensors are the correct shapes.\n",
    "\n",
    "Instead of bag-of-words, one may also consider first converting each question, key, and value into a general set of embeddings such as [GLoVe](https://nlp.stanford.edu/projects/glove/). To do this one will need to consider how to combine words--convert each word into an embedding vector and then add the vectors together (or maybe average them)."
   ],
   "metadata": {
    "id": "xQqLE-fcI_43"
   }
  },
  {
   "cell_type": "markdown",
   "source": [
    "**Complete the key-value memory net code**"
   ],
   "metadata": {
    "id": "DSf1SSX7bgdE"
   }
  },
  {
   "cell_type": "code",
   "source": [
    "class KVMemNet(nn.Module):\n",
    "  def __init__(self, vocab_size, embed_dim):\n",
    "    super(KVMemNet, self).__init__()\n",
    "    self.vocab_size = vocab_size\n",
    "    self.embed_dim = embed_dim\n",
    "    ### YOUR CODE HERE\n",
    "    self.linearq = nn.Linear(vocab_size, embed_dim)\n",
    "    self.lineark = nn.Linear(vocab_size, embed_dim)\n",
    "    self.linearv = nn.Linear(vocab_size, embed_dim)\n",
    "    self.linearB = nn.Linear(vocab_size, embed_dim)\n",
    "\n",
    "  def B(self, Y):\n",
    "    y = self.linearB(Y)\n",
    "    return y\n",
    "\n",
    "  def forward(self, x, keys, values):\n",
    "    output = None\n",
    "    ### YOUR CODE BELOW\n",
    "    q = self.linearq(x)\n",
    "    k = self.lineark(keys)\n",
    "    v = self.linearv(values)\n",
    "\n",
    "    p = torch.inner(k, q)\n",
    "    p = F.softmax(p, dim=0)\n",
    "    output = torch.matmul(p, v)\n",
    "\n",
    "    ### YOUR CODE ABOVE\n",
    "    return output"
   ],
   "metadata": {
    "id": "9zex3XZzw0-l",
    "executionInfo": {
     "status": "ok",
     "timestamp": 1721363881385,
     "user_tz": -480,
     "elapsed": 417,
     "user": {
      "displayName": "Cheng Hou",
      "userId": "04454898278176989701"
     }
    },
    "execution": {
     "iopub.status.busy": "2024-07-19T11:06:09.587545Z",
     "iopub.execute_input": "2024-07-19T11:06:09.588141Z",
     "iopub.status.idle": "2024-07-19T11:06:09.596018Z",
     "shell.execute_reply.started": "2024-07-19T11:06:09.588110Z",
     "shell.execute_reply": "2024-07-19T11:06:09.595202Z"
    },
    "trusted": true
   },
   "execution_count": 27,
   "outputs": []
  },
  {
   "cell_type": "markdown",
   "source": [
    "\n",
    "# Synthetic Data Set\n",
    "\n",
    "This is a synthetic dataset. One way to test a model during development is to take a small piece of data and show that you can overfit a model. If you can't overfit an easily learned chunk of data, then you probably have something wrong in your code. In this case I have provided a small chunk of synthetic data that should be easy to learn.\n",
    "\n",
    "- The vocabulary is 20 word: 5 names, 5 relations, 5 question-words, 5 values\n",
    " - First 5 elements of the vocab are names (for example index 0 might be \"Hamilton\").\n",
    " - Second 5 elements of the vocab are relations (for example, \"born\", \"died\", \"occupation\").\n",
    " - Third 5 elements are random words that might be part of a query (for example, \"When was\").\n",
    " - Final 5 elements of the vocab are possible values (for example, \"1757\")\n",
    "- A \"question\" is a name (5, 1), relation (5, 1), some words (5, 1), and no values\n",
    "- The keys will all have the same name (5, 5) where each row is idential, relations (5, 5), no words, no values\n",
    "- Values will have no names, no relations, no words, and value vocab words"
   ],
   "metadata": {
    "id": "p8pshjz9hRps"
   }
  },
  {
   "cell_type": "code",
   "source": [
    "# Turn on a different relation on each row\n",
    "relations = torch.zeros(5, 5)\n",
    "relations.fill_diagonal_(1)\n",
    "\n",
    "# training data\n",
    "train_data = {}\n",
    "for i in range(5):\n",
    "  # Name associated with questions, keys, values\n",
    "  train_data[i] = (torch.cat([F.one_hot(torch.arange(0, 5))[i].repeat(5, 1),\n",
    "                         relations,\n",
    "                         torch.randint(0, 2, (5, 5)).float(),\n",
    "                         torch.zeros(5, 5)], dim=1),\n",
    "              torch.cat([F.one_hot(torch.arange(0, 5))[i].repeat(5, 1),\n",
    "                         relations,\n",
    "                         torch.zeros(5, 5),\n",
    "                         torch.zeros(5, 5)], dim=1),\n",
    "              torch.cat([torch.zeros(5, 5),\n",
    "                         torch.zeros(5, 5),\n",
    "                         torch.zeros(5, 5),\n",
    "                         torch.randint(0, 2, (5, 5)).float()], dim=1))\n",
    "  Y = torch.cat([v[2] for v in list(train_data.values())], dim=0).to(device)"
   ],
   "metadata": {
    "id": "Qvuyp-g7grYw",
    "executionInfo": {
     "status": "ok",
     "timestamp": 1721364062379,
     "user_tz": -480,
     "elapsed": 409,
     "user": {
      "displayName": "Cheng Hou",
      "userId": "04454898278176989701"
     }
    },
    "execution": {
     "iopub.status.busy": "2024-07-19T16:20:07.695051Z",
     "iopub.execute_input": "2024-07-19T16:20:07.695368Z",
     "iopub.status.idle": "2024-07-19T16:20:07.706040Z",
     "shell.execute_reply.started": "2024-07-19T16:20:07.695334Z",
     "shell.execute_reply": "2024-07-19T16:20:07.705060Z"
    },
    "trusted": true
   },
   "execution_count": 393,
   "outputs": []
  },
  {
   "cell_type": "markdown",
   "source": [
    "# Part C: Train on Synthetic Data (5 points)"
   ],
   "metadata": {
    "id": "G6R_xIi_TZVp"
   }
  },
  {
   "cell_type": "markdown",
   "source": [
    "The following describes the steps to set up a training loop, including the training of the $B$ layer.\n",
    "\n",
    "![The KVMemNet being used in the training loop](https://github.com/markriedl/kvmemnet-assignment/blob/main/kvmemnet-outside.png?raw=true)\n",
    "\n",
    "- Create a model with the given vocabulary size and an embedding size that is equal to or smaller.\n",
    "- Loop through `N` epochs:\n",
    " - There are five names, loop through each name.\n",
    "   - Get a stack of questions, stack of keys, and stack of values from `DB_synth`.\n",
    "   - Loop through the relations. There is relation on each row of the keys and values.\n",
    "     - Get a single question, the `i`-th row in the questions pulled from `DB_synth` above.\n",
    "     - Compute the target: this is the `name*5 + i` element in `Y`.\n",
    "     - Run the singular question, stack of keys, and stack of values through the model and produce an output, which is a tensor of feature weights.\n",
    "     - Run all of `Y` through `model.B()` to get an embedded stack of values.\n",
    "     - Take the softmax of the inner product between the embedded stack of values from `Y` and the feature weight generated by the model.\n",
    "     - Compute the loss with `nn.CrossEntropyLoss`.\n",
    "     - Call `.backward()` on the loss.\n",
    "\n",
    "In addition to printing the loss (after every question or after every name in `DB_synth`) you can also print the target and the argmax of the softmax result to see if they match. Over time you should see the target and the argmax in agreement. For the purposes of this part of the project it is sufficient to test on the training set.\n",
    "\n",
    "Don't forget to move the model and the tensor to the GPU.\n",
    "\n",
    "You may want to speed up training by implementing batching. To do this, the model `forward()` needs to take tensors with an extra batching dimension as the first dimension. However, `.inner()`, `.mm()`, and `.matmul()` will not work properly. You will need to use `.bmm()` instead, which understands the first dimension is for batching. You will likely find that you need to perform some `.squeeze()` and `.unsqueeze()` operations. You can try batch-size of one, or take entire chunks (or even all synthetic data as a single, large batch). Try it different ways.\n",
    "\n",
    "Try training on the synthetic data first."
   ],
   "metadata": {
    "id": "4slHUG5cPDtT"
   }
  },
  {
   "cell_type": "markdown",
   "source": [
    "You may make as many cells as necessary. Save your notebook outputs that plot loss and show it reducing."
   ],
   "metadata": {
    "id": "zu1CMkabZkyU"
   }
  },
  {
   "cell_type": "markdown",
   "source": [
    "**Write code blocks below that create the `KVMemNet`**"
   ],
   "metadata": {
    "id": "0MqIdFVAbqr1"
   }
  },
  {
   "cell_type": "code",
   "source": [
    "# Hyperparameters\n",
    "KVMemNet_EMBED_DIMENSIONS = 20\n",
    "KVMemNet_NUM_EPOCH = 400\n",
    "KVMemNet_LAERNING_RATE = 0.001\n",
    "KVMemNet_VOCAB_SIZE = 20"
   ],
   "metadata": {
    "id": "-JbwagndBwbH",
    "executionInfo": {
     "status": "ok",
     "timestamp": 1721364029690,
     "user_tz": -480,
     "elapsed": 421,
     "user": {
      "displayName": "Cheng Hou",
      "userId": "04454898278176989701"
     }
    },
    "execution": {
     "iopub.status.busy": "2024-07-19T16:18:17.124129Z",
     "iopub.execute_input": "2024-07-19T16:18:17.124859Z",
     "iopub.status.idle": "2024-07-19T16:18:17.129225Z",
     "shell.execute_reply.started": "2024-07-19T16:18:17.124824Z",
     "shell.execute_reply": "2024-07-19T16:18:17.128192Z"
    },
    "trusted": true
   },
   "execution_count": 382,
   "outputs": []
  },
  {
   "cell_type": "code",
   "source": [
    "# Set up your KVMemNet, move it to the GPU, setup up optimizer (e.g., Adam), and criterion.\n",
    "model = KVMemNet(KVMemNet_VOCAB_SIZE, KVMemNet_EMBED_DIMENSIONS)\n",
    "model.to(device)\n",
    "optimizer = torch.optim.Adam(model.parameters(), lr = KVMemNet_LAERNING_RATE)\n",
    "criterion = nn.CrossEntropyLoss()"
   ],
   "metadata": {
    "id": "wxso4hXaTKSK",
    "executionInfo": {
     "status": "ok",
     "timestamp": 1721364067026,
     "user_tz": -480,
     "elapsed": 454,
     "user": {
      "displayName": "Cheng Hou",
      "userId": "04454898278176989701"
     }
    },
    "execution": {
     "iopub.status.busy": "2024-07-19T16:20:08.696793Z",
     "iopub.execute_input": "2024-07-19T16:20:08.697362Z",
     "iopub.status.idle": "2024-07-19T16:20:08.704473Z",
     "shell.execute_reply.started": "2024-07-19T16:20:08.697330Z",
     "shell.execute_reply": "2024-07-19T16:20:08.703690Z"
    },
    "trusted": true
   },
   "execution_count": 394,
   "outputs": []
  },
  {
   "cell_type": "markdown",
   "source": [
    "**Write and run a training testing loop. Show that your training loop loss converges with a plot**\n",
    "\n",
    "To plot a loss curve, compute the mean loss per epoch and save it in a list:\n",
    "```\n",
    "x_axis.append(epoch_number)\n",
    "y_axis.append(mean_epoch_loss_for_this_epoch)\n",
    "plt.plot(x_axis, y_axis)\n",
    "plt.show()\n",
    "```"
   ],
   "metadata": {
    "id": "001D35pTb82K"
   }
  },
  {
   "cell_type": "code",
   "source": [
    "# Write your training loop here\n",
    "def train_KVMemNet(model, optimizer, criterion, train_data, Y, num_epochs):\n",
    "    x_axis = []\n",
    "    y_axis_loss = []\n",
    "    y_axis_accuracy = []\n",
    "\n",
    "    for epoch in range(num_epochs):\n",
    "        losses = []\n",
    "        total, correct = 0, 0\n",
    "        for name_idx in range(len(train_data)):\n",
    "            questions, keys, values = train_data[name_idx]\n",
    "            for i in range(len(keys)):\n",
    "                x = questions[i,:]\n",
    "                o = model(x.to(device), keys.to(device), values.to(device))\n",
    "                y = model.B(Y)\n",
    "                output = torch.inner(y, o)\n",
    "                target = torch.tensor(name_idx * len(train_data) + i).to(device)\n",
    "\n",
    "                # compute accuracy\n",
    "                output_softmax = F.log_softmax(output,dim=0)\n",
    "                output_idx = torch.argmax(output_softmax)\n",
    "                total += 1\n",
    "\n",
    "                if output_idx == target:\n",
    "                  correct += 1\n",
    "\n",
    "                # compute loss\n",
    "                loss = criterion(output, target)\n",
    "                optimizer.zero_grad()\n",
    "                loss.backward()\n",
    "                optimizer.step()\n",
    "                losses.append(loss.item())\n",
    "\n",
    "        accuracy = correct / total\n",
    "        epoch_loss_mean = np.array(losses).mean()\n",
    "        x_axis.append(epoch)\n",
    "        y_axis_loss.append(epoch_loss_mean)\n",
    "        y_axis_accuracy.append(accuracy)\n",
    "        if epoch % 40 == 0:\n",
    "            print(f'Epoch [{epoch}/{num_epochs}], Loss: {epoch_loss_mean:.6f}, Traning Accuracy: {accuracy:.6f}')\n",
    "        if epoch == num_epochs - 1:\n",
    "            print(f'Epoch [{epoch+1}/{num_epochs}], Loss: {epoch_loss_mean:.6f}, Traning Accuracy: {accuracy:.6f}')\n",
    "\n",
    "    return x_axis, y_axis_loss, y_axis_accuracy"
   ],
   "metadata": {
    "id": "InBysHJfTTYX",
    "executionInfo": {
     "status": "ok",
     "timestamp": 1721363935252,
     "user_tz": -480,
     "elapsed": 1,
     "user": {
      "displayName": "Cheng Hou",
      "userId": "04454898278176989701"
     }
    },
    "execution": {
     "iopub.status.busy": "2024-07-19T16:18:20.895682Z",
     "iopub.execute_input": "2024-07-19T16:18:20.896045Z",
     "iopub.status.idle": "2024-07-19T16:18:20.907449Z",
     "shell.execute_reply.started": "2024-07-19T16:18:20.896015Z",
     "shell.execute_reply": "2024-07-19T16:18:20.906508Z"
    },
    "trusted": true
   },
   "execution_count": 384,
   "outputs": []
  },
  {
   "cell_type": "code",
   "source": [
    "x_axis, y_axis_loss, y_axis_accuracy  = train_KVMemNet(model, optimizer, criterion, train_data, Y, KVMemNet_NUM_EPOCH)"
   ],
   "metadata": {
    "colab": {
     "base_uri": "https://localhost:8080/"
    },
    "id": "4whOy601X9kN",
    "executionInfo": {
     "status": "ok",
     "timestamp": 1721364090651,
     "user_tz": -480,
     "elapsed": 20531,
     "user": {
      "displayName": "Cheng Hou",
      "userId": "04454898278176989701"
     }
    },
    "outputId": "79969613-cf75-4bc8-ec15-31dde15fdf78",
    "execution": {
     "iopub.status.busy": "2024-07-19T16:20:13.170048Z",
     "iopub.execute_input": "2024-07-19T16:20:13.170443Z",
     "iopub.status.idle": "2024-07-19T16:20:33.705293Z",
     "shell.execute_reply.started": "2024-07-19T16:20:13.170411Z",
     "shell.execute_reply": "2024-07-19T16:20:33.704344Z"
    },
    "trusted": true
   },
   "execution_count": 395,
   "outputs": [
    {
     "name": "stdout",
     "text": "Epoch [0/400], Loss: 3.220233, Traning Accuracy: 0.080000\nEpoch [40/400], Loss: 2.408325, Traning Accuracy: 0.200000\nEpoch [80/400], Loss: 1.677022, Traning Accuracy: 0.440000\nEpoch [120/400], Loss: 0.788105, Traning Accuracy: 0.680000\nEpoch [160/400], Loss: 0.548532, Traning Accuracy: 0.720000\nEpoch [200/400], Loss: 0.475444, Traning Accuracy: 0.720000\nEpoch [240/400], Loss: 0.450439, Traning Accuracy: 0.720000\nEpoch [280/400], Loss: 0.440165, Traning Accuracy: 0.720000\nEpoch [320/400], Loss: 0.435352, Traning Accuracy: 0.720000\nEpoch [360/400], Loss: 0.432914, Traning Accuracy: 0.720000\nEpoch [400/400], Loss: 0.431646, Traning Accuracy: 0.720000\n",
     "output_type": "stream"
    }
   ]
  },
  {
   "cell_type": "code",
   "source": [
    "fig = plt.figure()\n",
    "ax1 = fig.add_subplot(111)\n",
    "ax1.plot(x_axis, y_axis_loss, label='Loss')\n",
    "ax1.set_xlabel('Epoch')\n",
    "ax1.set_ylabel('Loss')\n",
    "\n",
    "ax2 = ax1.twinx()\n",
    "ax2.plot(x_axis, y_axis_accuracy,color='green', label='Accuracy')\n",
    "ax2.set_ylim([0,1])\n",
    "ax2.set_ylabel('Traning Accuracy')\n",
    "fig.legend(loc=[0.6,0.8])\n",
    "plt.show()"
   ],
   "metadata": {
    "colab": {
     "base_uri": "https://localhost:8080/",
     "height": 455
    },
    "id": "9heB0IeL6TsJ",
    "executionInfo": {
     "status": "ok",
     "timestamp": 1721364094650,
     "user_tz": -480,
     "elapsed": 504,
     "user": {
      "displayName": "Cheng Hou",
      "userId": "04454898278176989701"
     }
    },
    "outputId": "7a307f21-045b-494c-9488-d7bdef3a30f5",
    "execution": {
     "iopub.status.busy": "2024-07-19T16:20:43.229676Z",
     "iopub.execute_input": "2024-07-19T16:20:43.230045Z",
     "iopub.status.idle": "2024-07-19T16:20:43.555394Z",
     "shell.execute_reply.started": "2024-07-19T16:20:43.230015Z",
     "shell.execute_reply": "2024-07-19T16:20:43.554287Z"
    },
    "trusted": true
   },
   "execution_count": 397,
   "outputs": [
    {
     "output_type": "display_data",
     "data": {
      "text/plain": "<Figure size 640x480 with 2 Axes>",
      "image/png": "[encoded data removed]"
     },
     "metadata": {}
    }
   ]
  },
  {
   "cell_type": "markdown",
   "source": [
    "# Part D: Training on the Full Data (10 points)"
   ],
   "metadata": {
    "id": "nupd-Gr9P6vc"
   }
  },
  {
   "cell_type": "markdown",
   "source": [
    "To train on the full data, you are going to need to do some pre-processing of the data.\n",
    "\n",
    "First, there are no \"questions\". You need to generate questions for each type of relation. There a number of ways to do this. The simplest is to just assume that a question is the name of a person and a relation, e.g., \"Alexander Hamilton birth date\". Another way would be to create templates for each type of relation. For example the \"birth date\" relation would have the following template: \"When was [name] born?\", filling in the [name]. Because there are a lot of different types of relations, you may want to remove the more obscure relations so you need fewer templates and also have a smaller vocabulary. Templates work well if the questions are expected to be almost identical to the templates. You may want to generate multiple templates per relation. Continuing the previous example, a second template would be: \"What is the birthdate of [name]?\".\n",
    "\n",
    "If you are feeling more ambitious, you could use GPT-J, GPT-NeoX, GPT-3 or ChatGPT to generate templates. It works decently well and you can get some variety of templates.\n",
    "\n",
    "The question should contain information about the person and some words that are representative of the relation even if the exact relation words aren't used (the KVMemNet should figure out that \"birthdate\" and \"born\" are correlated).\n",
    "\n",
    "You only put a subset of all key-value pairs into the KVMemNet. You need a technique for sub-selecting from all the key-value pairs in `DB`. You might just need the ones that are directly associated with the person (Alexander Hamilton has 23). You may need to mix in a few key-value pairs from another person's entries in the database to help ensure against accidental overfitting.\n",
    "\n",
    "The final challenge you will have in the training loop is that there may still be too many unique values in `Y` to encode and create one big tensor. In that case, you can at least use the values that you sent to the KVMemNet, along with as many other randomly selected values as you can fit into the GPU's memory."
   ],
   "metadata": {
    "id": "r02Y9yvhPXy8"
   }
  },
  {
   "cell_type": "markdown",
   "source": [
    "Create as many cells below as you need. Save the output of your training and testing functions, reporting loss during training and accuracy during testing. 5 points for a training loop that reduces loss. 5 points for a training function with a correct accuracy computation."
   ],
   "metadata": {
    "id": "3I3CTqeEfa1m"
   }
  },
  {
   "cell_type": "markdown",
   "source": [
    "**Create a training dataset and a non-overlapping testing dataset**\n",
    "\n",
    "If CPU memory becomes a problem you might want to consider a `DataLoader` so that data can be stored on file and pulled up when needed."
   ],
   "metadata": {
    "id": "D-970kRwZ26n"
   }
  },
  {
   "cell_type": "code",
   "source": [
    "# Preprocessed DB and Vocab data size\n",
    "print(\"Original DB len: \", len(DB))\n",
    "print(\"Original VOCAB num: \", VOCAB.num_words())"
   ],
   "metadata": {
    "colab": {
     "base_uri": "https://localhost:8080/"
    },
    "id": "73LIXFjLS8qp",
    "executionInfo": {
     "status": "ok",
     "timestamp": 1721364113047,
     "user_tz": -480,
     "elapsed": 419,
     "user": {
      "displayName": "Cheng Hou",
      "userId": "04454898278176989701"
     }
    },
    "outputId": "e8d8c60c-c740-4ccd-8fd3-6afa256e1e68",
    "execution": {
     "iopub.status.busy": "2024-07-19T11:06:36.847732Z",
     "iopub.execute_input": "2024-07-19T11:06:36.848093Z",
     "iopub.status.idle": "2024-07-19T11:06:36.853476Z",
     "shell.execute_reply.started": "2024-07-19T11:06:36.848063Z",
     "shell.execute_reply": "2024-07-19T11:06:36.852461Z"
    },
    "trusted": true
   },
   "execution_count": 31,
   "outputs": [
    {
     "name": "stdout",
     "text": "Original DB len:  40786\nOriginal VOCAB num:  96093\n",
     "output_type": "stream"
    }
   ]
  },
  {
   "cell_type": "code",
   "source": [
    "# Get top k frequent relations in the entire database\n",
    "def get_top_k_relation(DB, k):\n",
    "    relation_count = Counter()\n",
    "    for relations in DB.values():\n",
    "        for relation in relations:\n",
    "            relation_count[relation] += 1\n",
    "    return [relation for relation, cnt in relation_count.most_common(k)]\n",
    "\n",
    "k = 20\n",
    "top_k_relation = get_top_k_relation(DB,k)\n",
    "print(f\"Top {k} relation:\\n\", top_k_relation)"
   ],
   "metadata": {
    "colab": {
     "base_uri": "https://localhost:8080/"
    },
    "id": "YWIBnntUfHgp",
    "executionInfo": {
     "status": "ok",
     "timestamp": 1721364118698,
     "user_tz": -480,
     "elapsed": 445,
     "user": {
      "displayName": "Cheng Hou",
      "userId": "04454898278176989701"
     }
    },
    "outputId": "b24e553e-a427-499a-dda3-458c4a29a3a0",
    "execution": {
     "iopub.status.busy": "2024-07-19T11:06:38.769695Z",
     "iopub.execute_input": "2024-07-19T11:06:38.770365Z",
     "iopub.status.idle": "2024-07-19T11:06:38.942493Z",
     "shell.execute_reply.started": "2024-07-19T11:06:38.770333Z",
     "shell.execute_reply": "2024-07-19T11:06:38.941563Z"
    },
    "trusted": true
   },
   "execution_count": 32,
   "outputs": [
    {
     "name": "stdout",
     "text": "Top 20 relation:\n ['office', 'article_title', 'name', 'term_start', 'birth_date', 'birth_place', 'term_end', 'predecessor', 'party', 'successor', 'alma_mater', 'death_date', 'spouse', 'death_place', 'nationality', 'religion', 'children', 'occupation', 'profession', 'residence']\n",
     "output_type": "stream"
    }
   ]
  },
  {
   "cell_type": "code",
   "source": [
    "# Process DB and Vocab data\n",
    "\n",
    "# Randomly select 600 names from DB to be used as training/testing data.\n",
    "items = list(DB.items())\n",
    "random.shuffle(items)\n",
    "db_new = dict(items[:600])\n",
    "\n",
    "# Remove the DB relations which are not in top 20 relation list\n",
    "def filter_db_by_top_relations(DB, top_relations):\n",
    "    filtered_db = {}\n",
    "    for name, relations in DB.items():\n",
    "        filtered_relations = {relation: value for relation, value in relations.items() if relation in top_relations}\n",
    "        if filtered_relations:\n",
    "            filtered_db[name] = filtered_relations\n",
    "    return filtered_db\n",
    "\n",
    "FINAL_DB = filter_db_by_top_relations(db_new, top_k_relation)\n",
    "\n",
    "# Select 500 traning dataset and 100 testing dataset from the 600 subsets (randomly picked from the DB)\n",
    "items = list(FINAL_DB.items())\n",
    "train_db = dict(items[:500])\n",
    "test_db = dict(items[500:600])\n",
    "\n",
    "# Make new VOCAB from the training DB\n",
    "VOCAB_new = make_vocab(train_db)\n",
    "\n",
    "# Remove rare words\n",
    "FINAL_VOCAB = reduce_vocab(VOCAB_new,0)\n",
    "\n",
    "print(\"\\n\")\n",
    "print(\"Post-processed DB len: \", len(FINAL_DB))\n",
    "print(\"Post-processed VOCAB num: \", FINAL_VOCAB.num_words())"
   ],
   "metadata": {
    "colab": {
     "base_uri": "https://localhost:8080/"
    },
    "id": "yL3-qEcCOHmT",
    "executionInfo": {
     "status": "ok",
     "timestamp": 1721364238879,
     "user_tz": -480,
     "elapsed": 470,
     "user": {
      "displayName": "Cheng Hou",
      "userId": "04454898278176989701"
     }
    },
    "outputId": "0104dbc5-929a-40be-a019-5ce49e32a9ae",
    "execution": {
     "iopub.status.busy": "2024-07-19T11:06:41.261410Z",
     "iopub.execute_input": "2024-07-19T11:06:41.262186Z",
     "iopub.status.idle": "2024-07-19T11:06:41.672560Z",
     "shell.execute_reply.started": "2024-07-19T11:06:41.262156Z",
     "shell.execute_reply": "2024-07-19T11:06:41.671698Z"
    },
    "trusted": true
   },
   "execution_count": 33,
   "outputs": [
    {
     "name": "stderr",
     "text": "100%|██████████| 30691/30691 [00:00<00:00, 896149.42it/s]",
     "output_type": "stream"
    },
    {
     "name": "stdout",
     "text": "\n\nPost-processed DB len:  600\nPost-processed VOCAB num:  4963\n",
     "output_type": "stream"
    },
    {
     "name": "stderr",
     "text": "\n",
     "output_type": "stream"
    }
   ]
  },
  {
   "cell_type": "code",
   "source": [
    "# Generated questions for the top 20 relations in entire DB. Used 5 templates for each type of the relation\n",
    "templates = {\n",
    "    \"office\": [\n",
    "        \"What office did {name} hold?\",\n",
    "        \"Which office was {name} elected to?\",\n",
    "        \"What position did {name} serve in?\",\n",
    "        \"What was {name}'s official title?\",\n",
    "        \"Which office did {name} occupy?\"\n",
    "    ],\n",
    "    \"article_title\": [\n",
    "        \"What is the title of the article about {name}?\",\n",
    "        \"How is {name} referred to in the article?\",\n",
    "        \"What is the article about {name} called?\",\n",
    "        \"What title does the article on {name} have?\",\n",
    "        \"What is the name of the article on {name}?\"\n",
    "    ],\n",
    "    \"name\": [\n",
    "        \"What is {name}'s full name?\",\n",
    "        \"How is {name} formally known?\",\n",
    "        \"What is the name of {name}?\",\n",
    "        \"What is the complete name of {name}?\",\n",
    "        \"What name is {name} known by?\"\n",
    "    ],\n",
    "    \"term_start\": [\n",
    "        \"When did {name}'s term start?\",\n",
    "        \"What is the start date of {name}'s term?\",\n",
    "        \"When did {name} begin their term?\",\n",
    "        \"On what date did {name}'s term commence?\",\n",
    "        \"When did {name} take office?\"\n",
    "    ],\n",
    "    \"birth_date\": [\n",
    "        \"When was {name} born?\",\n",
    "        \"What is the birthdate of {name}?\",\n",
    "        \"On what date was {name} born?\",\n",
    "        \"What is {name}'s date of birth?\",\n",
    "        \"When did {name} enter the world?\"\n",
    "    ],\n",
    "    \"birth_place\": [\n",
    "        \"Where was {name} born?\",\n",
    "        \"What is the birthplace of {name}?\",\n",
    "        \"In which city was {name} born?\",\n",
    "        \"Where did {name} come into the world?\",\n",
    "        \"What is the birth location of {name}?\"\n",
    "    ],\n",
    "    \"term_end\": [\n",
    "        \"When did {name}'s term end?\",\n",
    "        \"What is the end date of {name}'s term?\",\n",
    "        \"When did {name} leave office?\",\n",
    "        \"On what date did {name}'s term conclude?\",\n",
    "        \"When did {name}'s tenure end?\"\n",
    "    ],\n",
    "    \"predecessor\": [\n",
    "        \"Who preceded {name} in office?\",\n",
    "        \"Who was {name}'s predecessor?\",\n",
    "        \"Who came before {name} in the position?\",\n",
    "        \"Who held the office before {name}?\",\n",
    "        \"Who was in office prior to {name}?\"\n",
    "    ],\n",
    "    \"party\": [\n",
    "        \"What party does {name} belong to?\",\n",
    "        \"Which political party is {name} a member of?\",\n",
    "        \"What is {name}'s political affiliation?\",\n",
    "        \"To which party is {name} affiliated?\",\n",
    "        \"Which party does {name} represent?\"\n",
    "    ],\n",
    "    \"successor\": [\n",
    "        \"Who succeeded {name} in office?\",\n",
    "        \"Who followed {name} in the position?\",\n",
    "        \"Who was {name}'s successor?\",\n",
    "        \"Who took over after {name}?\",\n",
    "        \"Who came after {name} in office?\"\n",
    "    ],\n",
    "    \"alma_mater\": [\n",
    "        \"Where did {name} study?\",\n",
    "        \"Which college did {name} attend?\",\n",
    "        \"What is the alma mater of {name}?\",\n",
    "        \"Where did {name} go to university?\",\n",
    "        \"Which institution did {name} graduate from?\"\n",
    "    ],\n",
    "    \"death_date\": [\n",
    "        \"When did {name} die?\",\n",
    "        \"What is the death date of {name}?\",\n",
    "        \"On what date did {name} pass away?\",\n",
    "        \"When did {name} leave this world?\",\n",
    "        \"What is {name}'s date of death?\"\n",
    "    ],\n",
    "    \"spouse\": [\n",
    "        \"Who is {name}'s spouse?\",\n",
    "        \"Who is {name} married to?\",\n",
    "        \"Who is {name}'s partner?\",\n",
    "        \"Who is {name}'s husband/wife?\",\n",
    "        \"Who is {name} wed to?\"\n",
    "    ],\n",
    "    \"death_place\": [\n",
    "        \"Where did {name} die?\",\n",
    "        \"What is the death place of {name}?\",\n",
    "        \"In which city did {name} pass away?\",\n",
    "        \"Where did {name} spend their last moments?\",\n",
    "        \"What is the location of {name}'s death?\"\n",
    "    ],\n",
    "    \"nationality\": [\n",
    "        \"What is {name}'s nationality?\",\n",
    "        \"Which country is {name} from?\",\n",
    "        \"What is the nationality of {name}?\",\n",
    "        \"To which nation does {name} belong?\",\n",
    "        \"Which country does {name} hail from?\"\n",
    "    ],\n",
    "    \"religion\": [\n",
    "        \"What is {name}'s religion?\",\n",
    "        \"Which faith does {name} follow?\",\n",
    "        \"What is the religious belief of {name}?\",\n",
    "        \"To which religion does {name} adhere?\",\n",
    "        \"What religion is {name} associated with?\"\n",
    "    ],\n",
    "    \"children\": [\n",
    "        \"How many children does {name} have?\",\n",
    "        \"Who are {name}'s children?\",\n",
    "        \"Does {name} have any kids?\",\n",
    "        \"What are the names of {name}'s children?\",\n",
    "        \"How many kids does {name} have?\"\n",
    "    ],\n",
    "    \"occupation\": [\n",
    "        \"What is {name}'s occupation?\",\n",
    "        \"What does {name} do for a living?\",\n",
    "        \"What is the profession of {name}?\",\n",
    "        \"What job does {name} have?\",\n",
    "        \"What is {name}'s career?\"\n",
    "    ],\n",
    "    \"profession\": [\n",
    "        \"What is {name}'s profession?\",\n",
    "        \"What is the professional background of {name}?\",\n",
    "        \"In which field does {name} work?\",\n",
    "        \"What is {name}'s line of work?\",\n",
    "        \"What is {name}'s job?\"\n",
    "    ],\n",
    "    \"residence\": [\n",
    "        \"Where does {name} live?\",\n",
    "        \"What is {name}'s place of residence?\",\n",
    "        \"In which city does {name} reside?\",\n",
    "        \"Where is {name}'s home?\",\n",
    "        \"What is the address of {name}?\"\n",
    "    ]\n",
    "}"
   ],
   "metadata": {
    "id": "NrrgxmUcVCvv",
    "executionInfo": {
     "status": "ok",
     "timestamp": 1721364260462,
     "user_tz": -480,
     "elapsed": 432,
     "user": {
      "displayName": "Cheng Hou",
      "userId": "04454898278176989701"
     }
    },
    "execution": {
     "iopub.status.busy": "2024-07-19T11:06:45.434419Z",
     "iopub.execute_input": "2024-07-19T11:06:45.434902Z",
     "iopub.status.idle": "2024-07-19T11:06:45.447419Z",
     "shell.execute_reply.started": "2024-07-19T11:06:45.434874Z",
     "shell.execute_reply": "2024-07-19T11:06:45.446276Z"
    },
    "trusted": true
   },
   "execution_count": 34,
   "outputs": []
  },
  {
   "cell_type": "code",
   "source": [
    "# Add word from the template to VOCAB\n",
    "def update_vocab_with_questions(vocab, templates):\n",
    "    for relation, questions in templates.items():\n",
    "        for question in questions:\n",
    "            tokens = tokenize(question.format(name=\"example\"))\n",
    "            for token in tokens:\n",
    "                if token not in vocab._word2index:\n",
    "                    vocab.add_word(token)\n",
    "\n",
    "update_vocab_with_questions(FINAL_VOCAB, templates)\n",
    "print(\"Final Vocab size: \", FINAL_VOCAB.num_words())"
   ],
   "metadata": {
    "colab": {
     "base_uri": "https://localhost:8080/"
    },
    "id": "s575q9TVXeo4",
    "executionInfo": {
     "status": "ok",
     "timestamp": 1721364265191,
     "user_tz": -480,
     "elapsed": 427,
     "user": {
      "displayName": "Cheng Hou",
      "userId": "04454898278176989701"
     }
    },
    "outputId": "a05f2a67-e706-4ed5-e60e-052c4f91087f",
    "execution": {
     "iopub.status.busy": "2024-07-19T11:06:51.018353Z",
     "iopub.execute_input": "2024-07-19T11:06:51.018739Z",
     "iopub.status.idle": "2024-07-19T11:06:51.026415Z",
     "shell.execute_reply.started": "2024-07-19T11:06:51.018710Z",
     "shell.execute_reply": "2024-07-19T11:06:51.025369Z"
    },
    "trusted": true
   },
   "execution_count": 35,
   "outputs": [
    {
     "name": "stdout",
     "text": "Final Vocab size:  5041\n",
     "output_type": "stream"
    }
   ]
  },
  {
   "cell_type": "code",
   "source": [
    "# prepare data for training/testing dataset. Convert input to multi-hot vectors\n",
    "def prep_data(db, vocab, templates):\n",
    "    data_out = []\n",
    "    for name, attributes in tqdm(db.items()):\n",
    "      questions = []\n",
    "      relations = []\n",
    "      values = []\n",
    "      for relation, value in attributes.items():\n",
    "        # 5 templates for each relation\n",
    "        for template in templates[relation]:\n",
    "          question = template.format(name=name)\n",
    "          questions.append(multihot(question, vocab))\n",
    "          relations.append(multihot(f'{question}', vocab))\n",
    "          values.append(multihot(f'{question} {value}', vocab))\n",
    "\n",
    "      questions = torch.tensor(np.array(questions), dtype=torch.float).to(device)\n",
    "      relations = torch.tensor(np.array(relations), dtype=torch.float).to(device)\n",
    "      values = torch.tensor(np.array(values), dtype=torch.float).to(device)\n",
    "      data_out.append((questions, relations, values))\n",
    "\n",
    "    return data_out"
   ],
   "metadata": {
    "id": "SxtidDqia6jg",
    "executionInfo": {
     "status": "ok",
     "timestamp": 1721364291243,
     "user_tz": -480,
     "elapsed": 424,
     "user": {
      "displayName": "Cheng Hou",
      "userId": "04454898278176989701"
     }
    },
    "execution": {
     "iopub.status.busy": "2024-07-19T11:06:53.381075Z",
     "iopub.execute_input": "2024-07-19T11:06:53.382030Z",
     "iopub.status.idle": "2024-07-19T11:06:53.391966Z",
     "shell.execute_reply.started": "2024-07-19T11:06:53.381990Z",
     "shell.execute_reply": "2024-07-19T11:06:53.390946Z"
    },
    "trusted": true
   },
   "execution_count": 36,
   "outputs": []
  },
  {
   "cell_type": "code",
   "source": [
    "# Get training and testing dataset\n",
    "train_data = prep_data(train_db, FINAL_VOCAB, templates)\n",
    "test_data = prep_data(test_db, FINAL_VOCAB, templates)"
   ],
   "metadata": {
    "colab": {
     "base_uri": "https://localhost:8080/"
    },
    "id": "fLUld-65f2WE",
    "executionInfo": {
     "status": "ok",
     "timestamp": 1721364311993,
     "user_tz": -480,
     "elapsed": 10390,
     "user": {
      "displayName": "Cheng Hou",
      "userId": "04454898278176989701"
     }
    },
    "outputId": "fa020fce-7428-4772-b32a-441ee8b9b362",
    "execution": {
     "iopub.status.busy": "2024-07-19T11:06:56.420768Z",
     "iopub.execute_input": "2024-07-19T11:06:56.421098Z",
     "iopub.status.idle": "2024-07-19T11:07:06.079553Z",
     "shell.execute_reply.started": "2024-07-19T11:06:56.421073Z",
     "shell.execute_reply": "2024-07-19T11:07:06.078566Z"
    },
    "trusted": true
   },
   "execution_count": 37,
   "outputs": [
    {
     "name": "stderr",
     "text": "100%|██████████| 500/500 [00:08<00:00, 62.30it/s]\n100%|██████████| 100/100 [00:01<00:00, 61.72it/s]\n",
     "output_type": "stream"
    }
   ]
  },
  {
   "cell_type": "markdown",
   "source": [
    "**Create your `KVMemNet`**"
   ],
   "metadata": {
    "id": "MI3b5x2zfl8g"
   }
  },
  {
   "cell_type": "code",
   "source": [
    "# Hyperparameters\n",
    "KVMemNet_EMBED_DIMENSIONS = 100\n",
    "KVMemNet_NUM_EPOCH = 20\n",
    "KVMemNet_LAERNING_RATE = 0.0003\n",
    "KVMemNet_VOCAB_SIZE = FINAL_VOCAB.num_words()"
   ],
   "metadata": {
    "id": "R2zBH8pWx23G",
    "executionInfo": {
     "status": "ok",
     "timestamp": 1721365482574,
     "user_tz": -480,
     "elapsed": 617,
     "user": {
      "displayName": "Cheng Hou",
      "userId": "04454898278176989701"
     }
    },
    "execution": {
     "iopub.status.busy": "2024-07-19T11:07:08.027761Z",
     "iopub.execute_input": "2024-07-19T11:07:08.028115Z",
     "iopub.status.idle": "2024-07-19T11:07:08.032923Z",
     "shell.execute_reply.started": "2024-07-19T11:07:08.028086Z",
     "shell.execute_reply": "2024-07-19T11:07:08.031985Z"
    },
    "trusted": true
   },
   "execution_count": 38,
   "outputs": []
  },
  {
   "cell_type": "code",
   "source": [
    "# Set up your KVMemNet here\n",
    "model = KVMemNet(KVMemNet_VOCAB_SIZE, KVMemNet_EMBED_DIMENSIONS)\n",
    "model.to(device)\n",
    "optimizer = torch.optim.Adam(model.parameters(), lr = KVMemNet_LAERNING_RATE)\n",
    "criterion = nn.CrossEntropyLoss()"
   ],
   "metadata": {
    "id": "OEKJ1KJxTBUJ",
    "executionInfo": {
     "status": "ok",
     "timestamp": 1721365484339,
     "user_tz": -480,
     "elapsed": 1,
     "user": {
      "displayName": "Cheng Hou",
      "userId": "04454898278176989701"
     }
    },
    "execution": {
     "iopub.status.busy": "2024-07-19T11:07:11.300329Z",
     "iopub.execute_input": "2024-07-19T11:07:11.300703Z",
     "iopub.status.idle": "2024-07-19T11:07:11.328529Z",
     "shell.execute_reply.started": "2024-07-19T11:07:11.300674Z",
     "shell.execute_reply": "2024-07-19T11:07:11.327814Z"
    },
    "trusted": true
   },
   "execution_count": 39,
   "outputs": []
  },
  {
   "cell_type": "markdown",
   "source": [
    "**Write and run a training loop, showing a loss plot**\n",
    "\n",
    "You may find it handy to also test your network on the test data periodically as it trains."
   ],
   "metadata": {
    "id": "9Ug_8X-2fwYD"
   }
  },
  {
   "cell_type": "code",
   "source": [
    "# Training loop goes here\n",
    "def train_KVMemNet(model, optimizer, criterion, train_data, num_epochs):\n",
    "    model.train()\n",
    "    correct = 0\n",
    "    total = 0\n",
    "    x_axis = []\n",
    "    y_axis_loss = []\n",
    "    y_axis_accuracy = []\n",
    "    for epoch in range(num_epochs):\n",
    "        losses = []\n",
    "        # loop through person names in training set, total of 500\n",
    "        for name_idx in range(len(train_data)):\n",
    "            questions, keys, values = train_data[name_idx]\n",
    "            # add two random persons\n",
    "            num = list(range(0, name_idx)) + list(range(name_idx + 1, len(train_data)))\n",
    "            idx = random.sample(num, 2)\n",
    "            keys = torch.cat([keys,train_data[idx[0]][1], train_data[idx[1]][1]], dim=0)\n",
    "            values = torch.cat([values,train_data[idx[0]][2], train_data[idx[1]][2]], dim=0)\n",
    "            Y = values.clone()\n",
    "\n",
    "            # loop through question-key-value pairs for each person.\n",
    "            # This number will be different for each person as each has different number of relations\n",
    "            for i in range(len(questions)):\n",
    "                x = questions[i,:]\n",
    "                o = model(x.to(device), keys.to(device), values.to(device))\n",
    "                y = model.B(Y.to(device))\n",
    "                output = torch.inner(y, o)\n",
    "                target = torch.tensor(i)\n",
    "\n",
    "                # compute accuracy\n",
    "                output_softmax = F.log_softmax(output, dim=0)\n",
    "                output_idx = torch.argmax(output_softmax)\n",
    "                total += 1\n",
    "                if output_idx == target:\n",
    "                  correct += 1\n",
    "\n",
    "                # compute loss\n",
    "                loss = criterion(output.to(device), target.to(device))\n",
    "                optimizer.zero_grad()\n",
    "                loss.backward()\n",
    "                optimizer.step()\n",
    "                losses.append(loss.item())\n",
    "\n",
    "        epoch_loss_mean = np.array(losses).mean()\n",
    "        accuracy = correct / total\n",
    "        x_axis.append(epoch)\n",
    "        y_axis_loss.append(epoch_loss_mean)\n",
    "        y_axis_accuracy.append(accuracy)\n",
    "        print(f'Epoch [{epoch}/{num_epochs}], Loss: {epoch_loss_mean:.6f}, Traning Accuracy: {accuracy:.6f}')\n",
    "        if epoch == num_epochs - 1:\n",
    "            print(f'Epoch [{epoch+1}/{num_epochs}], Loss: {epoch_loss_mean:.6f}, Traning Accuracy: {accuracy:.6f}')\n",
    "\n",
    "    return x_axis, y_axis_loss, y_axis_accuracy"
   ],
   "metadata": {
    "id": "-K6rxBHFTEPO",
    "executionInfo": {
     "status": "ok",
     "timestamp": 1721365494340,
     "user_tz": -480,
     "elapsed": 703,
     "user": {
      "displayName": "Cheng Hou",
      "userId": "04454898278176989701"
     }
    },
    "execution": {
     "iopub.status.busy": "2024-07-19T11:07:14.011983Z",
     "iopub.execute_input": "2024-07-19T11:07:14.012841Z",
     "iopub.status.idle": "2024-07-19T11:07:14.026030Z",
     "shell.execute_reply.started": "2024-07-19T11:07:14.012809Z",
     "shell.execute_reply": "2024-07-19T11:07:14.025025Z"
    },
    "trusted": true
   },
   "execution_count": 40,
   "outputs": []
  },
  {
   "cell_type": "code",
   "source": [
    "x_axis, y_axis_loss, y_axis_accuracy = train_KVMemNet(model, optimizer, criterion, train_data, KVMemNet_NUM_EPOCH)"
   ],
   "metadata": {
    "colab": {
     "base_uri": "https://localhost:8080/"
    },
    "id": "O_CL7VUZy6wD",
    "outputId": "3d8b9098-60db-4f0c-9b3b-0141d28788c2",
    "executionInfo": {
     "status": "ok",
     "timestamp": 1721366201823,
     "user_tz": -480,
     "elapsed": 704632,
     "user": {
      "displayName": "Cheng Hou",
      "userId": "04454898278176989701"
     }
    },
    "execution": {
     "iopub.status.busy": "2024-07-19T11:07:28.370645Z",
     "iopub.execute_input": "2024-07-19T11:07:28.371483Z",
     "iopub.status.idle": "2024-07-19T11:29:47.917357Z",
     "shell.execute_reply.started": "2024-07-19T11:07:28.371450Z",
     "shell.execute_reply": "2024-07-19T11:29:47.916186Z"
    },
    "trusted": true
   },
   "execution_count": 41,
   "outputs": [
    {
     "name": "stdout",
     "text": "Epoch [0/20], Loss: 1.933188, Traning Accuracy: 0.435599\nEpoch [1/20], Loss: 0.518887, Traning Accuracy: 0.634445\nEpoch [2/20], Loss: 0.321144, Traning Accuracy: 0.721656\nEpoch [3/20], Loss: 0.235015, Traning Accuracy: 0.772555\nEpoch [4/20], Loss: 0.180164, Traning Accuracy: 0.806289\nEpoch [5/20], Loss: 0.163211, Traning Accuracy: 0.829861\nEpoch [6/20], Loss: 0.151669, Traning Accuracy: 0.847398\nEpoch [7/20], Loss: 0.127213, Traning Accuracy: 0.861393\nEpoch [8/20], Loss: 0.112298, Traning Accuracy: 0.872815\nEpoch [9/20], Loss: 0.099825, Traning Accuracy: 0.882229\nEpoch [10/20], Loss: 0.106377, Traning Accuracy: 0.889909\nEpoch [11/20], Loss: 0.090501, Traning Accuracy: 0.896755\nEpoch [12/20], Loss: 0.094373, Traning Accuracy: 0.902513\nEpoch [13/20], Loss: 0.091463, Traning Accuracy: 0.907545\nEpoch [14/20], Loss: 0.079731, Traning Accuracy: 0.912092\nEpoch [15/20], Loss: 0.072476, Traning Accuracy: 0.916220\nEpoch [16/20], Loss: 0.082146, Traning Accuracy: 0.919729\nEpoch [17/20], Loss: 0.072980, Traning Accuracy: 0.922930\nEpoch [18/20], Loss: 0.071466, Traning Accuracy: 0.925845\nEpoch [19/20], Loss: 0.084113, Traning Accuracy: 0.928334\nEpoch [20/20], Loss: 0.084113, Traning Accuracy: 0.928334\n",
     "output_type": "stream"
    }
   ]
  },
  {
   "cell_type": "code",
   "source": [
    "fig = plt.figure()\n",
    "ax1 = fig.add_subplot(111)\n",
    "ax1.plot(x_axis, y_axis_loss, label='Loss')\n",
    "ax1.set_xlabel('Epoch')\n",
    "ax1.set_ylabel('Loss')\n",
    "ax1.set_xticks(np.arange(min(x_axis), max(x_axis)+1, 2))\n",
    "\n",
    "ax2 = ax1.twinx()\n",
    "ax2.plot(x_axis, y_axis_accuracy,color='green', label='Accuracy')\n",
    "ax2.set_ylim([0,1])\n",
    "ax2.set_ylabel('Traning Accuracy')\n",
    "fig.legend(loc=[0.6,0.6])\n",
    "plt.show()"
   ],
   "metadata": {
    "id": "zXvwUQaWypl5",
    "colab": {
     "base_uri": "https://localhost:8080/",
     "height": 220
    },
    "executionInfo": {
     "status": "error",
     "timestamp": 1721369916612,
     "user_tz": -480,
     "elapsed": 390,
     "user": {
      "displayName": "Cheng Hou",
      "userId": "04454898278176989701"
     }
    },
    "outputId": "3e40fa2a-1526-440c-f00a-e4461b12a0e9",
    "execution": {
     "iopub.status.busy": "2024-07-19T11:47:29.811926Z",
     "iopub.execute_input": "2024-07-19T11:47:29.812392Z",
     "iopub.status.idle": "2024-07-19T11:47:30.184937Z",
     "shell.execute_reply.started": "2024-07-19T11:47:29.812346Z",
     "shell.execute_reply": "2024-07-19T11:47:30.183938Z"
    },
    "trusted": true
   },
   "execution_count": 75,
   "outputs": [
    {
     "output_type": "display_data",
     "data": {
      "text/plain": "<Figure size 640x480 with 2 Axes>",
      "image/png": "[encoded data removed]"
     },
     "metadata": {}
    }
   ]
  },
  {
   "cell_type": "markdown",
   "source": [
    "**Write the code for testing your model on the test data**\n",
    "\n",
    "Your training loop can call the testing loop. But make sure that you do one last test on the model after training completes."
   ],
   "metadata": {
    "id": "7g5uXKRAgDjD"
   }
  },
  {
   "cell_type": "code",
   "source": [
    "# Testing loop goes here\n",
    "def test_KVMemNet(model, test_data):\n",
    "    model.eval()\n",
    "    correct = 0\n",
    "    total = 0\n",
    "    with torch.no_grad():\n",
    "        # loop through person names in testing set\n",
    "        for name_idx in range(len(test_data)):\n",
    "            questions, keys, values = test_data[name_idx]\n",
    "            # add two random persons\n",
    "            num = list(range(0, name_idx)) + list(range(name_idx + 1, len(test_data)))\n",
    "            idx = random.sample(num, 2)\n",
    "            keys = torch.cat([keys,test_data[idx[0]][1], test_data[idx[1]][1]], dim=0)\n",
    "            values = torch.cat([values,test_data[idx[0]][2], test_data[idx[1]][2]], dim=0)\n",
    "            Y = values.clone()\n",
    "            for i in range(len(questions)):\n",
    "              x = questions[i,:]\n",
    "              o = model(x.to(device), keys.to(device), values.to(device))\n",
    "              y = model.B(Y.to(device))\n",
    "              target = i\n",
    "              output = torch.inner(y, o)\n",
    "              output = F.log_softmax(output, dim=0)\n",
    "              output = torch.argmax(output)\n",
    "              total += 1\n",
    "              if output == target:\n",
    "                  correct += 1\n",
    "\n",
    "    accuracy = correct / total\n",
    "    print(f'Test Accuracy: {accuracy:.6f}')\n",
    "    return accuracy"
   ],
   "metadata": {
    "id": "ecGNHCNhTGxK",
    "executionInfo": {
     "status": "ok",
     "timestamp": 1721228982243,
     "user_tz": -480,
     "elapsed": 1024,
     "user": {
      "displayName": "Cheng Hou",
      "userId": "04454898278176989701"
     }
    },
    "execution": {
     "iopub.status.busy": "2024-07-19T11:49:07.035339Z",
     "iopub.execute_input": "2024-07-19T11:49:07.035727Z",
     "iopub.status.idle": "2024-07-19T11:49:07.047702Z",
     "shell.execute_reply.started": "2024-07-19T11:49:07.035696Z",
     "shell.execute_reply": "2024-07-19T11:49:07.046685Z"
    },
    "trusted": true
   },
   "execution_count": 76,
   "outputs": []
  },
  {
   "cell_type": "code",
   "source": [
    "test_accuracy = test_KVMemNet(model, test_data)"
   ],
   "metadata": {
    "colab": {
     "base_uri": "https://localhost:8080/"
    },
    "id": "7margIDAIJa4",
    "executionInfo": {
     "status": "ok",
     "timestamp": 1721228973367,
     "user_tz": -480,
     "elapsed": 2316,
     "user": {
      "displayName": "Cheng Hou",
      "userId": "04454898278176989701"
     }
    },
    "outputId": "57a342a2-103a-401c-a331-88a261d3d4f4",
    "execution": {
     "iopub.status.busy": "2024-07-19T11:49:09.337618Z",
     "iopub.execute_input": "2024-07-19T11:49:09.337988Z",
     "iopub.status.idle": "2024-07-19T11:49:12.090552Z",
     "shell.execute_reply.started": "2024-07-19T11:49:09.337957Z",
     "shell.execute_reply": "2024-07-19T11:49:12.089596Z"
    },
    "trusted": true
   },
   "execution_count": 77,
   "outputs": [
    {
     "name": "stdout",
     "text": "Test Accuracy: 0.553125\n",
     "output_type": "stream"
    }
   ]
  },
  {
   "cell_type": "markdown",
   "source": [
    "**Suggestion:** Once you have a model that has decent accuracy, you may want to save it to your Google Drive using ``torch.save()`` and load it when working on the next part of the assignment using ``torch.load()``."
   ],
   "metadata": {
    "id": "fSfTnmWbf0Pr"
   }
  },
  {
   "cell_type": "markdown",
   "source": [
    "# Part E: Use the Model (5 points)\n",
    "\n",
    "Given a question in natural language, turn it into a bag of words and feed it into the model with a set of plausible keys and values. Apply the output feature embedding to the full set of values and pick the value with argmax. Return the actual text inside that value (not the bag of words or embedding).\n",
    "\n",
    "That is, given a natural language question, you are asked to create the $q$ and pick a relevant subset of $k$ and $v$. Run the $q$, $k$, and $v$ through the model and get an answer to the original question.\n",
    "\n",
    "For example a question might be \"When was Alexander Hamilton born?\" Depending on how you pre-proessed your data, you may need to extract the entity and the relation.\n",
    "\n",
    "Write a function that takes in the `question` below, the data, and the model, and outputs the text answer, e.g., \"11 january 1755\". You must use your ``KVMemNet``."
   ],
   "metadata": {
    "id": "lRCn-LZmMNCp"
   }
  },
  {
   "cell_type": "markdown",
   "source": [
    "**Suggestion:** To process a question you will probably want to find the entity and the relation. You may use packages such as [NLTK](https://www.nltk.org/) (already imported), [SpaCY](https://spacy.io/), [Stanza](https://stanfordnlp.github.io/stanza/), or other."
   ],
   "metadata": {
    "id": "yiRYRlRhfFUG"
   }
  },
  {
   "cell_type": "markdown",
   "source": [
    "Change the question to test your implementation, but don't delete this cell."
   ],
   "metadata": {
    "id": "ofPVuNzWeIto"
   }
  },
  {
   "cell_type": "code",
   "source": [
    "import spacy\n",
    "!spacy download en_core_web_lg"
   ],
   "metadata": {
    "execution": {
     "iopub.status.busy": "2024-07-19T12:52:45.188558Z",
     "iopub.execute_input": "2024-07-19T12:52:45.188926Z",
     "iopub.status.idle": "2024-07-19T12:53:12.803773Z",
     "shell.execute_reply.started": "2024-07-19T12:52:45.188897Z",
     "shell.execute_reply": "2024-07-19T12:53:12.802659Z"
    },
    "trusted": true
   },
   "execution_count": 192,
   "outputs": [
    {
     "name": "stdout",
     "text": "Collecting en-core-web-lg==3.7.1\n  Downloading https://github.com/explosion/spacy-models/releases/download/en_core_web_lg-3.7.1/en_core_web_lg-3.7.1-py3-none-any.whl (587.7 MB)\n\u001B[2K     \u001B[90m━━━━━━━━━━━━━━━━━━━━━━━━━━━━━━━━━━━━━━━\u001B[0m \u001B[32m587.7/587.7 MB\u001B[0m \u001B[31m2.0 MB/s\u001B[0m eta \u001B[36m0:00:00\u001B[0m00:01\u001B[0m00:01\u001B[0m\n\u001B[?25hRequirement already satisfied: spacy<3.8.0,>=3.7.2 in /opt/conda/lib/python3.10/site-packages (from en-core-web-lg==3.7.1) (3.7.5)\nRequirement already satisfied: spacy-legacy<3.1.0,>=3.0.11 in /opt/conda/lib/python3.10/site-packages (from spacy<3.8.0,>=3.7.2->en-core-web-lg==3.7.1) (3.0.12)\nRequirement already satisfied: spacy-loggers<2.0.0,>=1.0.0 in /opt/conda/lib/python3.10/site-packages (from spacy<3.8.0,>=3.7.2->en-core-web-lg==3.7.1) (1.0.5)\nRequirement already satisfied: murmurhash<1.1.0,>=0.28.0 in /opt/conda/lib/python3.10/site-packages (from spacy<3.8.0,>=3.7.2->en-core-web-lg==3.7.1) (1.0.10)\nRequirement already satisfied: cymem<2.1.0,>=2.0.2 in /opt/conda/lib/python3.10/site-packages (from spacy<3.8.0,>=3.7.2->en-core-web-lg==3.7.1) (2.0.8)\nRequirement already satisfied: preshed<3.1.0,>=3.0.2 in /opt/conda/lib/python3.10/site-packages (from spacy<3.8.0,>=3.7.2->en-core-web-lg==3.7.1) (3.0.9)\nRequirement already satisfied: thinc<8.3.0,>=8.2.2 in /opt/conda/lib/python3.10/site-packages (from spacy<3.8.0,>=3.7.2->en-core-web-lg==3.7.1) (8.2.3)\nRequirement already satisfied: wasabi<1.2.0,>=0.9.1 in /opt/conda/lib/python3.10/site-packages (from spacy<3.8.0,>=3.7.2->en-core-web-lg==3.7.1) (1.1.2)\nRequirement already satisfied: srsly<3.0.0,>=2.4.3 in /opt/conda/lib/python3.10/site-packages (from spacy<3.8.0,>=3.7.2->en-core-web-lg==3.7.1) (2.4.8)\nRequirement already satisfied: catalogue<2.1.0,>=2.0.6 in /opt/conda/lib/python3.10/site-packages (from spacy<3.8.0,>=3.7.2->en-core-web-lg==3.7.1) (2.0.10)\nRequirement already satisfied: weasel<0.5.0,>=0.1.0 in /opt/conda/lib/python3.10/site-packages (from spacy<3.8.0,>=3.7.2->en-core-web-lg==3.7.1) (0.4.1)\nRequirement already satisfied: typer<1.0.0,>=0.3.0 in /opt/conda/lib/python3.10/site-packages (from spacy<3.8.0,>=3.7.2->en-core-web-lg==3.7.1) (0.12.3)\nRequirement already satisfied: tqdm<5.0.0,>=4.38.0 in /opt/conda/lib/python3.10/site-packages (from spacy<3.8.0,>=3.7.2->en-core-web-lg==3.7.1) (4.66.4)\nRequirement already satisfied: requests<3.0.0,>=2.13.0 in /opt/conda/lib/python3.10/site-packages (from spacy<3.8.0,>=3.7.2->en-core-web-lg==3.7.1) (2.32.3)\nRequirement already satisfied: pydantic!=1.8,!=1.8.1,<3.0.0,>=1.7.4 in /opt/conda/lib/python3.10/site-packages (from spacy<3.8.0,>=3.7.2->en-core-web-lg==3.7.1) (2.5.3)\nRequirement already satisfied: jinja2 in /opt/conda/lib/python3.10/site-packages (from spacy<3.8.0,>=3.7.2->en-core-web-lg==3.7.1) (3.1.2)\nRequirement already satisfied: setuptools in /opt/conda/lib/python3.10/site-packages (from spacy<3.8.0,>=3.7.2->en-core-web-lg==3.7.1) (69.0.3)\nRequirement already satisfied: packaging>=20.0 in /opt/conda/lib/python3.10/site-packages (from spacy<3.8.0,>=3.7.2->en-core-web-lg==3.7.1) (21.3)\nRequirement already satisfied: langcodes<4.0.0,>=3.2.0 in /opt/conda/lib/python3.10/site-packages (from spacy<3.8.0,>=3.7.2->en-core-web-lg==3.7.1) (3.4.0)\nRequirement already satisfied: numpy>=1.19.0 in /opt/conda/lib/python3.10/site-packages (from spacy<3.8.0,>=3.7.2->en-core-web-lg==3.7.1) (1.26.4)\nRequirement already satisfied: language-data>=1.2 in /opt/conda/lib/python3.10/site-packages (from langcodes<4.0.0,>=3.2.0->spacy<3.8.0,>=3.7.2->en-core-web-lg==3.7.1) (1.2.0)\nRequirement already satisfied: pyparsing!=3.0.5,>=2.0.2 in /opt/conda/lib/python3.10/site-packages (from packaging>=20.0->spacy<3.8.0,>=3.7.2->en-core-web-lg==3.7.1) (3.1.1)\nRequirement already satisfied: annotated-types>=0.4.0 in /opt/conda/lib/python3.10/site-packages (from pydantic!=1.8,!=1.8.1,<3.0.0,>=1.7.4->spacy<3.8.0,>=3.7.2->en-core-web-lg==3.7.1) (0.6.0)\nRequirement already satisfied: pydantic-core==2.14.6 in /opt/conda/lib/python3.10/site-packages (from pydantic!=1.8,!=1.8.1,<3.0.0,>=1.7.4->spacy<3.8.0,>=3.7.2->en-core-web-lg==3.7.1) (2.14.6)\nRequirement already satisfied: typing-extensions>=4.6.1 in /opt/conda/lib/python3.10/site-packages (from pydantic!=1.8,!=1.8.1,<3.0.0,>=1.7.4->spacy<3.8.0,>=3.7.2->en-core-web-lg==3.7.1) (4.9.0)\nRequirement already satisfied: charset-normalizer<4,>=2 in /opt/conda/lib/python3.10/site-packages (from requests<3.0.0,>=2.13.0->spacy<3.8.0,>=3.7.2->en-core-web-lg==3.7.1) (3.3.2)\nRequirement already satisfied: idna<4,>=2.5 in /opt/conda/lib/python3.10/site-packages (from requests<3.0.0,>=2.13.0->spacy<3.8.0,>=3.7.2->en-core-web-lg==3.7.1) (3.6)\nRequirement already satisfied: urllib3<3,>=1.21.1 in /opt/conda/lib/python3.10/site-packages (from requests<3.0.0,>=2.13.0->spacy<3.8.0,>=3.7.2->en-core-web-lg==3.7.1) (1.26.18)\nRequirement already satisfied: certifi>=2017.4.17 in /opt/conda/lib/python3.10/site-packages (from requests<3.0.0,>=2.13.0->spacy<3.8.0,>=3.7.2->en-core-web-lg==3.7.1) (2024.7.4)\nRequirement already satisfied: blis<0.8.0,>=0.7.8 in /opt/conda/lib/python3.10/site-packages (from thinc<8.3.0,>=8.2.2->spacy<3.8.0,>=3.7.2->en-core-web-lg==3.7.1) (0.7.10)\nRequirement already satisfied: confection<1.0.0,>=0.0.1 in /opt/conda/lib/python3.10/site-packages (from thinc<8.3.0,>=8.2.2->spacy<3.8.0,>=3.7.2->en-core-web-lg==3.7.1) (0.1.4)\nRequirement already satisfied: click>=8.0.0 in /opt/conda/lib/python3.10/site-packages (from typer<1.0.0,>=0.3.0->spacy<3.8.0,>=3.7.2->en-core-web-lg==3.7.1) (8.1.7)\nRequirement already satisfied: shellingham>=1.3.0 in /opt/conda/lib/python3.10/site-packages (from typer<1.0.0,>=0.3.0->spacy<3.8.0,>=3.7.2->en-core-web-lg==3.7.1) (1.5.4)\nRequirement already satisfied: rich>=10.11.0 in /opt/conda/lib/python3.10/site-packages (from typer<1.0.0,>=0.3.0->spacy<3.8.0,>=3.7.2->en-core-web-lg==3.7.1) (13.7.0)\nRequirement already satisfied: cloudpathlib<1.0.0,>=0.7.0 in /opt/conda/lib/python3.10/site-packages (from weasel<0.5.0,>=0.1.0->spacy<3.8.0,>=3.7.2->en-core-web-lg==3.7.1) (0.18.1)\nRequirement already satisfied: smart-open<8.0.0,>=5.2.1 in /opt/conda/lib/python3.10/site-packages (from weasel<0.5.0,>=0.1.0->spacy<3.8.0,>=3.7.2->en-core-web-lg==3.7.1) (6.4.0)\nRequirement already satisfied: MarkupSafe>=2.0 in /opt/conda/lib/python3.10/site-packages (from jinja2->spacy<3.8.0,>=3.7.2->en-core-web-lg==3.7.1) (2.1.3)\nRequirement already satisfied: marisa-trie>=0.7.7 in /opt/conda/lib/python3.10/site-packages (from language-data>=1.2->langcodes<4.0.0,>=3.2.0->spacy<3.8.0,>=3.7.2->en-core-web-lg==3.7.1) (1.1.0)\nRequirement already satisfied: markdown-it-py>=2.2.0 in /opt/conda/lib/python3.10/site-packages (from rich>=10.11.0->typer<1.0.0,>=0.3.0->spacy<3.8.0,>=3.7.2->en-core-web-lg==3.7.1) (3.0.0)\nRequirement already satisfied: pygments<3.0.0,>=2.13.0 in /opt/conda/lib/python3.10/site-packages (from rich>=10.11.0->typer<1.0.0,>=0.3.0->spacy<3.8.0,>=3.7.2->en-core-web-lg==3.7.1) (2.17.2)\nRequirement already satisfied: mdurl~=0.1 in /opt/conda/lib/python3.10/site-packages (from markdown-it-py>=2.2.0->rich>=10.11.0->typer<1.0.0,>=0.3.0->spacy<3.8.0,>=3.7.2->en-core-web-lg==3.7.1) (0.1.2)\n\u001B[38;5;2m✔ Download and installation successful\u001B[0m\nYou can now load the package via spacy.load('en_core_web_lg')\n",
     "output_type": "stream"
    }
   ]
  },
  {
   "cell_type": "markdown",
   "source": [
    "**Create your function for using the `KVMemNet` to answer a given question.**\n",
    "\n",
    "The function should take in the question, data, model, and any other parameters you need. The function should return a text string.\n",
    "\n",
    "You can create as many cells as necessary. Save the notebook cells showing one example of your input question and output answer. For grading we will look to see that your question is in natural language, the model is used, and the answer is in text. The example doesn't have to be correct. You will analyze your technique later in the report."
   ],
   "metadata": {
    "id": "KGSewc7jeaj1"
   }
  },
  {
   "cell_type": "code",
   "source": [
    "# Preprocess question using SpaCY\n",
    "def get_person_name(question):\n",
    "    nlp = spacy.load('en_core_web_lg')\n",
    "    doc = nlp(question)\n",
    "\n",
    "    # Extract the named entity\n",
    "    name = None\n",
    "    for ent in doc.ents:\n",
    "        if ent.label_ == \"PERSON\":\n",
    "            name = ent.text\n",
    "            break\n",
    "    return name"
   ],
   "metadata": {
    "execution": {
     "iopub.status.busy": "2024-07-19T15:38:52.001962Z",
     "iopub.execute_input": "2024-07-19T15:38:52.002631Z",
     "iopub.status.idle": "2024-07-19T15:38:52.007624Z",
     "shell.execute_reply.started": "2024-07-19T15:38:52.002593Z",
     "shell.execute_reply": "2024-07-19T15:38:52.006716Z"
    },
    "trusted": true
   },
   "execution_count": 239,
   "outputs": []
  },
  {
   "cell_type": "code",
   "source": [
    "# Prepare K, V vector data\n",
    "def prep_use_model_data(name, vocab, db):\n",
    "    # Prepare vector data for K, V\n",
    "    keys = []\n",
    "    values = []\n",
    "    values_db = []\n",
    "    \n",
    "    for key, value in db[name].items():\n",
    "        keys.append(multihot(f'{name} {key}', vocab))\n",
    "        values.append(multihot(f'{name} {key} {value}', vocab))\n",
    "        values_db.append(value) \n",
    "    \n",
    "    keys = torch.tensor(np.array(keys), dtype=torch.float)\n",
    "    values = torch.tensor(np.array(values), dtype=torch.float)\n",
    "    data_out = (keys, values)\n",
    "    return data_out, values_db"
   ],
   "metadata": {
    "id": "sN0ZNtADTzDd",
    "execution": {
     "iopub.status.busy": "2024-07-19T15:38:54.778167Z",
     "iopub.execute_input": "2024-07-19T15:38:54.779233Z",
     "iopub.status.idle": "2024-07-19T15:38:54.785439Z",
     "shell.execute_reply.started": "2024-07-19T15:38:54.779195Z",
     "shell.execute_reply": "2024-07-19T15:38:54.784461Z"
    },
    "trusted": true
   },
   "execution_count": 240,
   "outputs": []
  },
  {
   "cell_type": "code",
   "source": [
    "# Get answer from question\n",
    "def get_answer(model, question, vocab, db):\n",
    "    name = get_person_name(question)\n",
    "    \n",
    "    # get question related person's k, v\n",
    "    use_data, values_db = prep_use_model_data(name, vocab, db)\n",
    "    keys, values = use_data\n",
    "    \n",
    "    # the person's index in the entire DB\n",
    "    name_idx = list(db).index(name) \n",
    "    \n",
    "    # get two random persons k, v\n",
    "    num = list(range(0, name_idx)) + list(range(name_idx + 1, len(test_data)))\n",
    "    idx = random.sample(num, 2)\n",
    "    name_1 = list(db)[idx[0]]\n",
    "    use_data_1, values_db_1 = prep_use_model_data(name_1, vocab, db)\n",
    "    keys_1, values_1 = use_data_1\n",
    "    name_2 = list(db)[idx[1]]\n",
    "    use_data_2, values_db_2 = prep_use_model_data(name_2, vocab, db)\n",
    "    keys_2, values_2 = use_data_2\n",
    "    \n",
    "    # concat question related person's k, v with other 2 random person's\n",
    "    keys = torch.cat([keys,keys_1, keys_2], dim=0)\n",
    "    values = torch.cat([values,values_1, values_2], dim=0)\n",
    "    values_db = values_db + values_db_1 + values_db_2\n",
    "    Y = values.clone()\n",
    "    \n",
    "    # get q vector\n",
    "    q = multihot(question,vocab)\n",
    "    q = torch.tensor(np.array(q), dtype=torch.float)\n",
    "    \n",
    "    # generate answer from model\n",
    "    o = model(q.to(device), keys.to(device), values.to(device))\n",
    "    y = model.B(Y.to(device))\n",
    "    output = torch.inner(y, o)\n",
    "    output = F.log_softmax(output, dim=0)\n",
    "    output_idx = torch.argmax(output)\n",
    "    \n",
    "    return values_db[output_idx]\n",
    "    "
   ],
   "metadata": {
    "execution": {
     "iopub.status.busy": "2024-07-19T16:06:35.608816Z",
     "iopub.execute_input": "2024-07-19T16:06:35.609200Z",
     "iopub.status.idle": "2024-07-19T16:06:35.619484Z",
     "shell.execute_reply.started": "2024-07-19T16:06:35.609162Z",
     "shell.execute_reply": "2024-07-19T16:06:35.618544Z"
    },
    "trusted": true
   },
   "execution_count": 359,
   "outputs": []
  },
  {
   "cell_type": "code",
   "source": [
    "question1 = \"When was alexander hamilton born?\""
   ],
   "metadata": {
    "id": "JQLNvGsfm3b3",
    "execution": {
     "iopub.status.busy": "2024-07-19T16:06:39.432519Z",
     "iopub.execute_input": "2024-07-19T16:06:39.433259Z",
     "iopub.status.idle": "2024-07-19T16:06:39.437642Z",
     "shell.execute_reply.started": "2024-07-19T16:06:39.433224Z",
     "shell.execute_reply": "2024-07-19T16:06:39.436724Z"
    },
    "trusted": true
   },
   "execution_count": 360,
   "outputs": []
  },
  {
   "cell_type": "code",
   "source": [
    "# Verify answer for question 1\n",
    "output_answer = get_answer(model, question1, FINAL_VOCAB, DB)\n",
    "correct_answer = DB['alexander hamilton']['birth_date']\n",
    "print(question1)\n",
    "print(f'Output Answer: {output_answer}')\n",
    "print(f'Correct Answer: {correct_answer}')\n",
    "print(\"Result: \", output_answer == correct_answer)"
   ],
   "metadata": {
    "execution": {
     "iopub.status.busy": "2024-07-19T16:06:41.592224Z",
     "iopub.execute_input": "2024-07-19T16:06:41.592926Z",
     "iopub.status.idle": "2024-07-19T16:06:43.933279Z",
     "shell.execute_reply.started": "2024-07-19T16:06:41.592894Z",
     "shell.execute_reply": "2024-07-19T16:06:43.932337Z"
    },
    "trusted": true
   },
   "execution_count": 361,
   "outputs": [
    {
     "name": "stdout",
     "text": "When was alexander hamilton born?\nOutput Answer: 11 january 1755\nCorrect Answer: 11 january 1755\nResult:  True\n",
     "output_type": "stream"
    }
   ]
  },
  {
   "cell_type": "code",
   "source": [
    "question2 = \"What party does alexander hamilton belong to\""
   ],
   "metadata": {
    "execution": {
     "iopub.status.busy": "2024-07-19T16:15:49.633180Z",
     "iopub.execute_input": "2024-07-19T16:15:49.634081Z",
     "iopub.status.idle": "2024-07-19T16:15:49.638165Z",
     "shell.execute_reply.started": "2024-07-19T16:15:49.634045Z",
     "shell.execute_reply": "2024-07-19T16:15:49.637067Z"
    },
    "trusted": true
   },
   "execution_count": 374,
   "outputs": []
  },
  {
   "cell_type": "code",
   "source": [
    "# Verify answer for question 2\n",
    "output_answer = get_answer(model, question2, FINAL_VOCAB, DB)\n",
    "correct_answer = DB['alexander hamilton']['party']\n",
    "print(question2)\n",
    "print(f'Output Answer: {output_answer}')\n",
    "print(f'Correct Answer: {correct_answer}')\n",
    "print(\"Result: \", output_answer == correct_answer)"
   ],
   "metadata": {
    "execution": {
     "iopub.status.busy": "2024-07-19T16:15:57.422693Z",
     "iopub.execute_input": "2024-07-19T16:15:57.423221Z",
     "iopub.status.idle": "2024-07-19T16:15:59.777267Z",
     "shell.execute_reply.started": "2024-07-19T16:15:57.423184Z",
     "shell.execute_reply": "2024-07-19T16:15:59.776294Z"
    },
    "trusted": true
   },
   "execution_count": 376,
   "outputs": [
    {
     "name": "stdout",
     "text": "What party does alexander hamilton belong to\nOutput Answer: july 12 1804 aged 47 or 49\nCorrect Answer: federalist\nResult:  False\n",
     "output_type": "stream"
    }
   ]
  },
  {
   "cell_type": "markdown",
   "source": [
    "# Part F: Reporting (15 points)\n",
    "\n",
    "Your report should answer the following three questions:\n",
    "\n",
    " **Q1:** What pre-processing of the data did you do? What motivated the design decisions and how did it impact training and any processing of natural language questions (Parts A and D)?\n",
    "\n",
    " Hint: This should help one understand any code modifications you made in Parts A and the first part of Part D. But you shouldn't use this to document your code (hopefully you commented your code with code comments and text cells above), but to justify your choices as well as to explain what worked and what didn't work.\n",
    "\n",
    " **Q2:** Report on your training on the real data (Part D). Show your loss curve and report on the testing accuracy. There are many ways to implement the training loop, particularly with the choice of keys and values. What decisions did you make when developing your training loop? Justify your decisions. How did they impact the training?\n",
    "\n",
    " Hint: This assignment doesn't grade you on how well your model learns---your solution will not be perfect. We focus more on how you worked through the process. This part of the report should show how well your solution worked, but also the intuition for why it works, and to document the things you tried that didn't work.\n",
    "\n",
    " **Q3:** Describe your technique on how you process natural language questions (Part E). Provide some examples of your technique answering questions correctly and some examples of your technique answering questions incorrectly. Discuss what causes the failure cases.\n",
    "\n",
    " Hint: You are not penalized for incorrectly answered questions---your model will not be perfect---we are looking for honest reflection. Preferably, show the example as code blocks running your model with notebook outputs saved.\n",
    "\n",
    " We have provided three prompts below. You can create as many text and code cells as necessary."
   ],
   "metadata": {
    "id": "N27-OtrzpT-u"
   }
  },
  {
   "cell_type": "markdown",
   "source": [
    "**Q1: Report on Data Pre-processing**"
   ],
   "metadata": {
    "id": "V8dovCuyuEvL"
   }
  },
  {
   "cell_type": "markdown",
   "source": [
    "I have conducted the following data pre-processing steps for the given project:\n",
    "\n",
    "**1. Analyzed the Database (DB) and Selected the Top 20 Frequent Relations:**\n",
    "\n",
    "**Reason:** Each individual in the dataset has a varying number of relations (keys), with some relations being very uncommon. Including these rare relations in the training data would make it challenging for the model to learn and generalize effectively. By selecting the top 20 most frequent relations, we improve the generalization and performance of the KVMemNet model by filtering out these outliers.\n",
    "      \n",
    "**2. Selected a Subset of 600 Entries from the DB for Training and Testing:**\n",
    "\n",
    "**Reason:** The complete database contains information on 40,786 individuals, which is too large for this project given our computational constraints. Thus, we chose 500 entries for training and 100 entries for testing. This smaller subset is manageable and appropriate for the scope of our project.\n",
    "\n",
    "**3. Created a Vocabulary from the 500 Training Entries and Included 'unk':**\n",
    "\n",
    "**Reason:** The total vocabulary size of the entire DB is 96,093 words. Using this full vocabulary would exceed the GPU memory limits due to the large tensor size. Therefore, we constructed the vocabulary from the 500 training entries and represented any unseen words as 'unk'. This approach helps manage memory usage while ensuring that rare words are still accounted for.\n",
    "\n",
    "**4. Generated 5 Question Templates for Each of the Top 20 Relations and Expanded the Vocabulary:**\n",
    "\n",
    "**Reason:** User input questions can vary in format, so we created 5 different question templates for each of the top 20 relations. We also added any new words from these questions to the vocabulary. This step enriches the vocabulary and enhances the model's ability to match keys with given questions. The final vocabulary size is 5,041 words.\n",
    "\n",
    "\n",
    "\n",
    "\n",
    "\n"
   ],
   "metadata": {
    "collapsed": false
   }
  },
  {
   "cell_type": "markdown",
   "source": [
    "**Q2: Report on Training and Testing**"
   ],
   "metadata": {
    "id": "3VBW1vSduN4U"
   }
  },
  {
   "cell_type": "markdown",
   "source": [
    "The output on loss, accuracy, and the corresponding plot are shown in part D. As observed from the plot, the loss converges to around 0.08 after 10 epochs. The training accuracy reaches 92.8%, while the final test accuracy is 55.3%.\n",
    "\n",
    "The following considerations were made in the training loop:\n",
    "\n",
    "**1. Data Structure for Each Person:**\n",
    "\n",
    "Each person's data is structured as a list of `[questions, keys, values]`, where:\n",
    "* `questions` represent the tensor of multi-hot vectors for `'{question}'` for each name-relation pair (with 5 question templates per pair).\n",
    "* `keys` represent the tensor of multi-hot vectors for `'{question}'`.\n",
    "* `values` represent the tensor of multi-hot vectors for `'{question} {value}'` for each name-relation-value pair.\n",
    "\n",
    "**Reasoning:** Using `'{question}'` for keys and `'{question} {value}'` for values ensures a unique key vector for each given question. This avoids duplicate key-value pairs for each question-key pair, enhancing the model's ability to compare the output index with the target index given a question vector. When the question and key share more words, the model performs better in matching the key with the given question.\n",
    "\n",
    "An alternative approach using `'{name} {key}'` for keys and `'{name} {key} {value}'` for values was tested but yielded less promising results. This method reduced word sharing between the question and key, decreasing the model's performance in matching the vectors using cosine similarity.\n",
    "\n",
    "**2. Keys and values from two additional randomly selected persons were added.**\n",
    "\n",
    "**Reasoning:** Simplifying the problem using hashing to select exact keys and values associated with the person can lead to overfitting. Adding keys and values from other persons helps avoid this. However, this method still relied on hashing (`DB[name]`) instead of purely cosine similarity, which may introduce bias and falsely increase the model's accuracy. The key-value memory network paper suggests selecting the K, V subset from the DB based on shared words (1 < frequency < 1000) with the question. Randomly selected persons might not share any words with the question, making it easier for the model to find the correct value from the true data block using cosine similarity, thus falsely improving accuracy.\n",
    "\n",
    "**3. Using `Y` Tensor Matrix as the Same as `values` Tensor:**\n",
    "\n",
    "Ideally, `Y` should include all values from the DB. However, this would make the training process very time-consuming. To simplify, a copy of `values` was used as `Y`, which included values from three persons. This smaller candidate set increases the accuracy of the training process since the likelihood of predicting the correct output is higher."
   ],
   "metadata": {
    "id": "PT_9MtT2uQ7I"
   }
  },
  {
   "cell_type": "markdown",
   "source": [
    "**Q3: Report on Model Use**"
   ],
   "metadata": {
    "id": "d6YimJ0KuScb"
   }
  },
  {
   "cell_type": "markdown",
   "source": [
    "For the model use part, I employed the following techniques:\n",
    "\n",
    "**1. Using spaCy to Extract the Name from the Question:**\n",
    "\n",
    "spaCy was used to identify the person's name in the question and retrieve the keys and values for that person from the database, along with keys and values from two randomly added persons. Although using spaCy to extract the name is not ideal as it bypasses the model's capabilities in this part, it simplifies the problem and improves output accuracy by directly hashing the keys by the person's name from the DB. Adding two more random persons helps prevent overfitting but can introduce variability in the output depending on the selected persons' relevance to the question.\n",
    "\n",
    "**2. Using `'{name} {key}'` for `keys` and `'{name} {key} {value}'` for `values` Vectors:**\n",
    "\n",
    "Since there is only one question input, using `'{question}'` for the `keys` tensor would make all keys the same, leading to equal probability for all outputs. Therefore, using `'{name} {key}'` for `keys` and `'{name} {key} {value}'` for `values` is more appropriate. This approach ensures that the keys are distinct and more relevant to the question, improving the model's performance in matching keys with the given question.\n",
    "\n",
    "**Final Outputs of Question Answering:**\n",
    "\n",
    "**Question 1:** \"When was Alexander Hamilton born?\"\n",
    "\n",
    "**Result:** The model has a >60% chance of returning the correct answer \"11 January 1755,\" which aligns with the test accuracy of 55.3%.\n",
    "\n",
    "**Question 2:** \"What party does Alexander Hamilton belong to?\"\n",
    "\n",
    "**Result:** The model has almost a 0% chance of returning the correct answer. The possible reasons for this include:\n",
    "* Insufficient training data for the \"party\" relation, resulting in the model not learning this key well.\n",
    "* The inclusion of two random persons causing output instability, as their keys might show higher cosine similarity with the question than the true key.\n",
    "* The relation \"party\" only has one word, while \"birth_date\" has two words, leading to less shared words with the question. Additionally, the question for \"party\" is slightly longer than for birth date, potentially resulting in a lower cosine similarity score for the final output.\n",
    "* Multi-hot embedding does not contain much word information. Using Glove or other advanced word embeddings might improve performance for such questions by better capturing word similarity across multiple dimensions."
   ],
   "metadata": {
    "id": "j1majVIPuVEP"
   }
  },
  {
   "cell_type": "code",
   "outputs": [],
   "source": [],
   "metadata": {
    "collapsed": false
   }
  }
 ]
}
